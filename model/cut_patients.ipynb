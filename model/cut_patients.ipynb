{
 "cells": [
  {
   "cell_type": "code",
   "execution_count": null,
   "metadata": {},
   "outputs": [],
   "source": [
    "import shutil\n",
    "import pandas as pd # data processing, CSV file I/O (e.g. pd.read_csv)\n",
    "import os\n",
    "import numpy as np\n",
    "\n",
    "cxr_test=pd.read_csv(\"cxr_ca_test.csv\")\n",
    "count =0\n",
    "path = \"C:\\\\Users\\\\Tony\\\\my_final_report\\\\Little_dataset\"  \n",
    "#new_path = \"C:\\\\Users\\\\Tony\\\\my_final_report\\\\my_single\"\n",
    "df_new = pd.DataFrame(columns=['subject_id', 'hadm_id','stay_id','intime','outtime','admittime', \n",
    "                               'dischtime','dicom_id','path','AcquisitionDate','eventV3'])\n",
    "\n",
    "for index, row in cxr_test.iterrows():\n",
    "    if count==0:\n",
    "       item=\"'\"+row[\"dicom_id\"]+\"'\"+','\n",
    "       check=path+\"\\\\\"+item   \n",
    "       temp=row[\"subject_id\"]\n",
    "       count=count+1\n",
    "       df_new = df_new.append(row)\n",
    "    else:\n",
    "       p_id=row[\"subject_id\"]\n",
    "       if temp!=p_id:\n",
    "           item=\"'\"+row[\"dicom_id\"]+\"'\"+','         \n",
    "           temp=p_id\n",
    "           count=count+1\n",
    "           df_new = df_new.append(row) \n",
    "          # print(item)\n",
    "        \n",
    "print(cxr_test.shape)         \n",
    "print(count)\n",
    "#print(cxr_single)\n",
    "#print(df_new)\n",
    "print(df_new.shape)\n",
    "print(\"complete!\")\n"
   ]
  },
  {
   "cell_type": "code",
   "execution_count": null,
   "metadata": {},
   "outputs": [],
   "source": [
    "df_new.to_csv('cxr_ca_test_single.csv', index=False)"
   ]
  }
 ],
 "metadata": {
  "kernelspec": {
   "display_name": "Python 3",
   "language": "python",
   "name": "python3"
  },
  "language_info": {
   "codemirror_mode": {
    "name": "ipython",
    "version": 3
   },
   "file_extension": ".py",
   "mimetype": "text/x-python",
   "name": "python",
   "nbconvert_exporter": "python",
   "pygments_lexer": "ipython3",
   "version": "3.6.12"
  }
 },
 "nbformat": 4,
 "nbformat_minor": 4
}
