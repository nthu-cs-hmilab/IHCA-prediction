{
 "cells": [
  {
   "cell_type": "code",
   "execution_count": 5,
   "metadata": {},
   "outputs": [
    {
     "name": "stdout",
     "output_type": "stream",
     "text": [
      "       subject_id   stay_id            indextime                 date  \\\n",
      "0        10026161  39625056  2133-11-15 17:55:00  2133-11-14 18:55:00   \n",
      "2        10026161  39625056  2133-11-15 17:55:00  2133-11-14 19:55:00   \n",
      "3        10026161  39625056  2133-11-15 17:55:00  2133-11-14 20:55:00   \n",
      "4        10026161  39625056  2133-11-15 17:55:00  2133-11-14 21:55:00   \n",
      "5        10026161  39625056  2133-11-15 17:55:00  2133-11-14 22:55:00   \n",
      "...           ...       ...                  ...                  ...   \n",
      "21265    19993336  36483324  2171-09-29 16:01:00  2171-09-29 12:01:00   \n",
      "21267    19993336  36483324  2171-09-29 16:01:00  2171-09-29 13:01:00   \n",
      "21269    19993336  36483324  2171-09-29 16:01:00  2171-09-29 14:01:00   \n",
      "21271    19993336  36483324  2171-09-29 16:01:00  2171-09-29 15:01:00   \n",
      "21273    19993336  36483324  2171-09-29 16:01:00  2171-09-29 16:01:00   \n",
      "\n",
      "       heart_rate  resp_rate    sbp   dbp   mbp  spo2  hours_diff  \n",
      "0            81.0       12.0  103.0  45.0  66.5  99.0          23  \n",
      "2            89.0       22.0   88.0  37.0  59.0  98.0          22  \n",
      "3            88.0       21.0  108.0  44.0  71.0  99.0          21  \n",
      "4            88.0       22.0  115.0  41.0  72.0  99.0          20  \n",
      "5            87.0       22.0  110.0  37.0  68.0  99.0          19  \n",
      "...           ...        ...    ...   ...   ...   ...         ...  \n",
      "21265        89.0       27.0  106.0  49.0  68.0  95.0           4  \n",
      "21267        85.0       13.0   93.0  56.0  69.0  94.0           3  \n",
      "21269        85.0       22.0  104.0  55.0  71.0  95.0           2  \n",
      "21271        85.0       26.0   99.0  55.0  69.0  94.0           1  \n",
      "21273        86.0       20.0  103.0  60.0  74.0  95.0           0  \n",
      "\n",
      "[11237 rows x 11 columns]\n"
     ]
    }
   ],
   "source": [
    "import numpy as np\n",
    "import pandas as pd\n",
    "\n",
    "df=pd.read_csv(\"ca_vital_sign_total_new.csv\")\n",
    "#print(df)\n",
    "df=df.fillna(method='backfill',axis=0)\n",
    "\n",
    "flag=24\n",
    "\n",
    "for i in df.index :\n",
    "    if(flag==df['hours_diff'][i]):\n",
    "         df=df.drop(i)\n",
    "    else :\n",
    "        flag=df['hours_diff'][i]\n",
    "\n",
    "print(df)\n"
   ]
  },
  {
   "cell_type": "code",
   "execution_count": 6,
   "metadata": {},
   "outputs": [],
   "source": [
    "df.to_csv(\"ca_vital_sign_total_new_fillna_and_drop.csv\",index=False)"
   ]
  }
 ],
 "metadata": {
  "kernelspec": {
   "display_name": "Python 3",
   "language": "python",
   "name": "python3"
  },
  "language_info": {
   "codemirror_mode": {
    "name": "ipython",
    "version": 3
   },
   "file_extension": ".py",
   "mimetype": "text/x-python",
   "name": "python",
   "nbconvert_exporter": "python",
   "pygments_lexer": "ipython3",
   "version": "3.6.12"
  }
 },
 "nbformat": 4,
 "nbformat_minor": 4
}
