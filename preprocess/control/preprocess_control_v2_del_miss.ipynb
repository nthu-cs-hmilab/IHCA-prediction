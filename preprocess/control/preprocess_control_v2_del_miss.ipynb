{
 "cells": [
  {
   "cell_type": "code",
   "execution_count": 65,
   "metadata": {},
   "outputs": [
    {
     "name": "stdout",
     "output_type": "stream",
     "text": [
      "        subject_id   stay_id         indextime              date  heart_rate  \\\n",
      "0         10001217  37067082  2157/11/21 21:00  2157/11/20 22:00       102.0   \n",
      "1         10001217  37067082  2157/11/21 21:00  2157/11/20 23:00       106.0   \n",
      "2         10001217  37067082  2157/11/21 21:00  2157/11/21 00:00        98.0   \n",
      "3         10001217  37067082  2157/11/21 21:00  2157/11/21 01:00        94.0   \n",
      "4         10001217  37067082  2157/11/21 21:00  2157/11/21 02:00        88.0   \n",
      "...            ...       ...               ...               ...         ...   \n",
      "854287    19999987  36195440   2145/11/4 21:01   2145/11/4 15:01        98.0   \n",
      "854288    19999987  36195440   2145/11/4 21:01   2145/11/4 16:01        98.0   \n",
      "854289    19999987  36195440   2145/11/4 21:01   2145/11/4 19:01        93.0   \n",
      "854290    19999987  36195440   2145/11/4 21:01   2145/11/4 20:01        92.0   \n",
      "854291    19999987  36195440   2145/11/4 21:01   2145/11/4 21:01        87.0   \n",
      "\n",
      "        resp_rate    sbp    dbp    mbp   spo2  hours_diff  \n",
      "0            27.0  137.0   81.0   93.0   95.0          23  \n",
      "1            20.0  134.0   73.0   88.0   98.0          22  \n",
      "2            25.0  127.0   78.0   90.0   94.0          21  \n",
      "3            24.0  127.0   74.0   83.0   93.0          20  \n",
      "4            20.0  134.0   78.0   90.0   98.0          19  \n",
      "...           ...    ...    ...    ...    ...         ...  \n",
      "854287       22.0  152.0   92.0  102.0   97.0           6  \n",
      "854288       22.0  152.0   92.0  102.0   97.0           5  \n",
      "854289       20.0  163.0  120.0  131.0  100.0           2  \n",
      "854290       23.0  143.0  107.0  116.0  100.0           1  \n",
      "854291       24.0  143.0  107.0  116.0   98.0           0  \n",
      "\n",
      "[854292 rows x 11 columns]\n"
     ]
    }
   ],
   "source": [
    "import numpy as np\n",
    "import pandas as pd\n",
    "\n",
    "df=pd.read_csv(\"control_vital_sign_total_new_fillna_and_drop_total.csv\") \n",
    "print(df)\n"
   ]
  },
  {
   "cell_type": "code",
   "execution_count": 66,
   "metadata": {
    "scrolled": true
   },
   "outputs": [
    {
     "name": "stdout",
     "output_type": "stream",
     "text": [
      "Int64Index([18669211, 12564274, 16609129, 10321771, 13301658, 11053008,\n",
      "            13045799, 13099065, 10768463, 19261560,\n",
      "            ...\n",
      "            15654072, 18030470, 13365922, 17049945, 14892930, 14468223,\n",
      "            12885839, 10359443, 11711284, 10547705],\n",
      "           dtype='int64', length=27061)\n"
     ]
    }
   ],
   "source": [
    "df_new_1=df.subject_id.value_counts().index[:df.subject_id.value_counts().value_counts()[0:1].sum()]\n",
    "print(df_new_1)"
   ]
  },
  {
   "cell_type": "code",
   "execution_count": 67,
   "metadata": {},
   "outputs": [
    {
     "name": "stdout",
     "output_type": "stream",
     "text": [
      "Int64Index([12513827, 12987194, 16546275, 12719657, 15775655, 10052938,\n",
      "            14823036, 17303859, 10774669, 15365815,\n",
      "            ...\n",
      "            15474523, 14570287, 12690467, 16082937, 13354079, 18542723,\n",
      "            19961282, 14628781, 19495630, 10306162],\n",
      "           dtype='int64', length=9998)\n"
     ]
    }
   ],
   "source": [
    "df_new_2=df.subject_id.value_counts().index[df.subject_id.value_counts().value_counts()[0:1].sum():]\n",
    "print(df_new_2)"
   ]
  },
  {
   "cell_type": "code",
   "execution_count": 68,
   "metadata": {},
   "outputs": [
    {
     "name": "stdout",
     "output_type": "stream",
     "text": [
      "        subject_id   stay_id         indextime              date  heart_rate  \\\n",
      "0         10001217  37067082  2157/11/21 21:00  2157/11/20 22:00       102.0   \n",
      "1         10001217  37067082  2157/11/21 21:00  2157/11/20 23:00       106.0   \n",
      "2         10001217  37067082  2157/11/21 21:00  2157/11/21 00:00        98.0   \n",
      "3         10001217  37067082  2157/11/21 21:00  2157/11/21 01:00        94.0   \n",
      "4         10001217  37067082  2157/11/21 21:00  2157/11/21 02:00        88.0   \n",
      "...            ...       ...               ...               ...         ...   \n",
      "854287    19999987  36195440   2145/11/4 21:01   2145/11/4 15:01        98.0   \n",
      "854288    19999987  36195440   2145/11/4 21:01   2145/11/4 16:01        98.0   \n",
      "854289    19999987  36195440   2145/11/4 21:01   2145/11/4 19:01        93.0   \n",
      "854290    19999987  36195440   2145/11/4 21:01   2145/11/4 20:01        92.0   \n",
      "854291    19999987  36195440   2145/11/4 21:01   2145/11/4 21:01        87.0   \n",
      "\n",
      "        resp_rate    sbp    dbp    mbp   spo2  hours_diff  \n",
      "0            27.0  137.0   81.0   93.0   95.0          23  \n",
      "1            20.0  134.0   73.0   88.0   98.0          22  \n",
      "2            25.0  127.0   78.0   90.0   94.0          21  \n",
      "3            24.0  127.0   74.0   83.0   93.0          20  \n",
      "4            20.0  134.0   78.0   90.0   98.0          19  \n",
      "...           ...    ...    ...    ...    ...         ...  \n",
      "854287       22.0  152.0   92.0  102.0   97.0           6  \n",
      "854288       22.0  152.0   92.0  102.0   97.0           5  \n",
      "854289       20.0  163.0  120.0  131.0  100.0           2  \n",
      "854290       23.0  143.0  107.0  116.0  100.0           1  \n",
      "854291       24.0  143.0  107.0  116.0   98.0           0  \n",
      "\n",
      "[854292 rows x 11 columns]\n"
     ]
    }
   ],
   "source": [
    "print(df)"
   ]
  },
  {
   "cell_type": "code",
   "execution_count": 69,
   "metadata": {},
   "outputs": [
    {
     "name": "stdout",
     "output_type": "stream",
     "text": [
      "        subject_id   stay_id         indextime              date  heart_rate  \\\n",
      "0         10001217  37067082  2157/11/21 21:00  2157/11/20 22:00       102.0   \n",
      "1         10001217  37067082  2157/11/21 21:00  2157/11/20 23:00       106.0   \n",
      "2         10001217  37067082  2157/11/21 21:00  2157/11/21 00:00        98.0   \n",
      "3         10001217  37067082  2157/11/21 21:00  2157/11/21 01:00        94.0   \n",
      "4         10001217  37067082  2157/11/21 21:00  2157/11/21 02:00        88.0   \n",
      "...            ...       ...               ...               ...         ...   \n",
      "854196    19999068  30143796   2161/8/30 21:00   2161/8/30 17:00       114.0   \n",
      "854197    19999068  30143796   2161/8/30 21:00   2161/8/30 18:00        96.0   \n",
      "854198    19999068  30143796   2161/8/30 21:00   2161/8/30 19:00        80.0   \n",
      "854199    19999068  30143796   2161/8/30 21:00   2161/8/30 20:00        91.0   \n",
      "854200    19999068  30143796   2161/8/30 21:00   2161/8/30 21:00        88.0   \n",
      "\n",
      "        resp_rate    sbp   dbp    mbp  spo2  hours_diff  \n",
      "0            27.0  137.0  81.0   93.0  95.0          23  \n",
      "1            20.0  134.0  73.0   88.0  98.0          22  \n",
      "2            25.0  127.0  78.0   90.0  94.0          21  \n",
      "3            24.0  127.0  74.0   83.0  93.0          20  \n",
      "4            20.0  134.0  78.0   90.0  98.0          19  \n",
      "...           ...    ...   ...    ...   ...         ...  \n",
      "854196       16.0  128.0  97.0  105.0  96.0           4  \n",
      "854197       14.0  120.0  77.0   89.0  96.0           3  \n",
      "854198       11.0  114.0  69.0   80.0  96.0           2  \n",
      "854199       14.0  128.0  68.0   83.0  96.0           1  \n",
      "854200       15.0  129.0  86.0   95.0  97.0           0  \n",
      "\n",
      "[649464 rows x 11 columns]\n"
     ]
    }
   ],
   "source": [
    "df_new=df[df.subject_id.isin(list(df_new_1))]\n",
    "print(df_new)\n",
    "#df_new.to_csv(\"control_vital_sign_result.csv\",index=False)"
   ]
  },
  {
   "cell_type": "code",
   "execution_count": null,
   "metadata": {},
   "outputs": [],
   "source": [
    "#df_new_1=df_new_1.to_frame()\n",
    "#df_new_1.to_csv(\"a1.csv\",index=False)\n",
    "#df_new_2=df_new_2.to_frame()\n",
    "#df_new_2.to_csv(\"a2.csv\",index=False)"
   ]
  },
  {
   "cell_type": "code",
   "execution_count": 61,
   "metadata": {},
   "outputs": [
    {
     "data": {
      "text/plain": [
       "13125051    24\n",
       "13499901    24\n",
       "17871820    24\n",
       "13059186    24\n",
       "19674244    24\n",
       "            ..\n",
       "11458461    11\n",
       "19541392     3\n",
       "17442462     2\n",
       "14626941     2\n",
       "18761260     2\n",
       "Name: subject_id, Length: 481, dtype: int64"
      ]
     },
     "execution_count": 61,
     "metadata": {},
     "output_type": "execute_result"
    }
   ],
   "source": [
    "df.subject_id.value_counts()"
   ]
  },
  {
   "cell_type": "code",
   "execution_count": 64,
   "metadata": {},
   "outputs": [
    {
     "data": {
      "text/plain": [
       "24    377\n",
       "23     54\n",
       "22     26\n",
       "21      8\n",
       "20      3\n",
       "2       3\n",
       "16      2\n",
       "19      1\n",
       "18      1\n",
       "17      1\n",
       "15      1\n",
       "14      1\n",
       "12      1\n",
       "11      1\n",
       "3       1\n",
       "Name: subject_id, dtype: int64"
      ]
     },
     "execution_count": 64,
     "metadata": {},
     "output_type": "execute_result"
    }
   ],
   "source": [
    "df.subject_id.value_counts().value_counts()"
   ]
  },
  {
   "cell_type": "code",
   "execution_count": 17,
   "metadata": {},
   "outputs": [
    {
     "name": "stdout",
     "output_type": "stream",
     "text": [
      "18669211    24\n",
      "12564274    24\n",
      "16609129    24\n",
      "10321771    24\n",
      "13301658    24\n",
      "            ..\n",
      "18542723     1\n",
      "19961282     1\n",
      "14628781     1\n",
      "19495630     1\n",
      "10306162     1\n",
      "Name: subject_id, Length: 37059, dtype: int64\n"
     ]
    }
   ],
   "source": [
    "df_new=df[\"subject_id\"].value_counts()\n",
    "print(df_new)\n",
    "\n",
    "#df_new.to_csv(\"aaaaaaaa.csv\",index=False)"
   ]
  }
 ],
 "metadata": {
  "kernelspec": {
   "display_name": "Python 3",
   "language": "python",
   "name": "python3"
  },
  "language_info": {
   "codemirror_mode": {
    "name": "ipython",
    "version": 3
   },
   "file_extension": ".py",
   "mimetype": "text/x-python",
   "name": "python",
   "nbconvert_exporter": "python",
   "pygments_lexer": "ipython3",
   "version": "3.6.12"
  }
 },
 "nbformat": 4,
 "nbformat_minor": 4
}
