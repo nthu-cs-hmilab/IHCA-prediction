{
 "cells": [
  {
   "cell_type": "code",
   "execution_count": 1,
   "metadata": {},
   "outputs": [
    {
     "name": "stdout",
     "output_type": "stream",
     "text": [
      "        subject_id   stay_id        indextime             date  heart_rate  \\\n",
      "0         14677586  33753288  2205/11/6 00:00  2205/11/5 01:00        82.0   \n",
      "1         14677586  33753288  2205/11/6 00:00  2205/11/5 02:00        80.0   \n",
      "3         14677586  33753288  2205/11/6 00:00  2205/11/5 03:00        81.0   \n",
      "4         14677586  33753288  2205/11/6 00:00  2205/11/5 04:00        99.0   \n",
      "5         14677586  33753288  2205/11/6 00:00  2205/11/5 05:00        78.0   \n",
      "...            ...       ...              ...              ...         ...   \n",
      "683664    19999987  36195440  2145/11/4 21:01  2145/11/4 15:01        98.0   \n",
      "683665    19999987  36195440  2145/11/4 21:01  2145/11/4 16:01        98.0   \n",
      "683667    19999987  36195440  2145/11/4 21:01  2145/11/4 19:01        93.0   \n",
      "683670    19999987  36195440  2145/11/4 21:01  2145/11/4 20:01        92.0   \n",
      "683671    19999987  36195440  2145/11/4 21:01  2145/11/4 21:01        87.0   \n",
      "\n",
      "        resp_rate    sbp    dbp    mbp   spo2  hours_diff  \n",
      "0            30.0  125.0   65.0   79.0  100.0          23  \n",
      "1            22.0  118.0   60.0   72.0   98.0          22  \n",
      "3            19.0  100.0   39.0   55.0   95.0          21  \n",
      "4            12.0  128.0   57.0   75.0   98.0          20  \n",
      "5            14.0  106.0   45.0   61.0   96.0          19  \n",
      "...           ...    ...    ...    ...    ...         ...  \n",
      "683664       22.0  152.0   92.0  102.0   97.0           6  \n",
      "683665       22.0  152.0   92.0  102.0   97.0           5  \n",
      "683667       20.0  163.0  120.0  131.0  100.0           2  \n",
      "683670       23.0  143.0  107.0  116.0  100.0           1  \n",
      "683671       24.0  143.0  107.0  116.0   98.0           0  \n",
      "\n",
      "[454206 rows x 11 columns]\n"
     ]
    }
   ],
   "source": [
    "import numpy as np\n",
    "import pandas as pd\n",
    "\n",
    "df=pd.read_csv(\"control_vital_sign_total_new_part2.csv\")\n",
    "#print(df)\n",
    "df=df.fillna(method='backfill',axis=0)\n",
    "\n",
    "flag=24\n",
    "\n",
    "for i in df.index :\n",
    "    if(flag==df['hours_diff'][i]):\n",
    "         df=df.drop(i)\n",
    "    else :\n",
    "        flag=df['hours_diff'][i]\n",
    "\n",
    "print(df)\n"
   ]
  },
  {
   "cell_type": "code",
   "execution_count": 2,
   "metadata": {},
   "outputs": [],
   "source": [
    "df.to_csv(\"control_vital_sign_total_new_part2_fillna_and_drop.csv\",index=False)"
   ]
  }
 ],
 "metadata": {
  "kernelspec": {
   "display_name": "Python 3",
   "language": "python",
   "name": "python3"
  },
  "language_info": {
   "codemirror_mode": {
    "name": "ipython",
    "version": 3
   },
   "file_extension": ".py",
   "mimetype": "text/x-python",
   "name": "python",
   "nbconvert_exporter": "python",
   "pygments_lexer": "ipython3",
   "version": "3.6.12"
  }
 },
 "nbformat": 4,
 "nbformat_minor": 4
}
