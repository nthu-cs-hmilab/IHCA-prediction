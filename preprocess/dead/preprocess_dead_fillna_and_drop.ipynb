{
 "cells": [
  {
   "cell_type": "code",
   "execution_count": 1,
   "metadata": {},
   "outputs": [
    {
     "name": "stdout",
     "output_type": "stream",
     "text": [
      "        subject_id   stay_id            indextime                 date  \\\n",
      "0         10001884  37510196  2131-01-20 04:19:00  2131-01-19 05:19:00   \n",
      "2         10001884  37510196  2131-01-20 04:19:00  2131-01-19 06:19:00   \n",
      "4         10001884  37510196  2131-01-20 04:19:00  2131-01-19 07:19:00   \n",
      "6         10001884  37510196  2131-01-20 04:19:00  2131-01-19 08:19:00   \n",
      "8         10001884  37510196  2131-01-20 04:19:00  2131-01-19 09:19:00   \n",
      "...            ...       ...                  ...                  ...   \n",
      "146462    19999840  38978960  2164-09-17 13:39:00  2164-09-17 09:39:00   \n",
      "146463    19999840  38978960  2164-09-17 13:39:00  2164-09-17 10:39:00   \n",
      "146464    19999840  38978960  2164-09-17 13:39:00  2164-09-17 11:39:00   \n",
      "146467    19999840  38978960  2164-09-17 13:39:00  2164-09-17 12:39:00   \n",
      "146468    19999840  38978960  2164-09-17 13:39:00  2164-09-17 13:39:00   \n",
      "\n",
      "        heart_rate  resp_rate    sbp   dbp   mbp  spo2  hours_diff  \n",
      "0             68.0       19.0  138.0  77.0  96.0  99.0          23  \n",
      "2             65.0       19.0  121.0  73.0  87.0  97.0          22  \n",
      "4             63.0       18.0  123.0  72.0  86.0  97.0          21  \n",
      "6             63.0       20.0  125.0  74.0  90.0  97.0          20  \n",
      "8             66.0       19.0  107.0  67.0  79.0  97.0          19  \n",
      "...            ...        ...    ...   ...   ...   ...         ...  \n",
      "146462        60.0       26.0   99.0  47.0  56.0  95.0           4  \n",
      "146463        61.0       23.0  111.0  52.0  66.0  96.0           3  \n",
      "146464        63.0       24.0  108.0  57.0  67.0  92.0           2  \n",
      "146467        76.0       24.0  111.0  53.0  65.0  92.0           1  \n",
      "146468        74.0       29.0   61.0  48.0  44.0  98.0           0  \n",
      "\n",
      "[86902 rows x 11 columns]\n"
     ]
    }
   ],
   "source": [
    "import numpy as np\n",
    "import pandas as pd\n",
    "\n",
    "df=pd.read_csv(\"dead_vital_sign_total_new.csv\")\n",
    "#print(df)\n",
    "df=df.fillna(method='backfill',axis=0)\n",
    "\n",
    "flag=24\n",
    "\n",
    "for i in df.index :\n",
    "    if(flag==df['hours_diff'][i]):\n",
    "         df=df.drop(i)\n",
    "    else :\n",
    "        flag=df['hours_diff'][i]\n",
    "\n",
    "print(df)\n"
   ]
  },
  {
   "cell_type": "code",
   "execution_count": 2,
   "metadata": {},
   "outputs": [],
   "source": [
    "df.to_csv(\"dead_vital_sign_total_new_fillna_and_drop.csv\",index=False)"
   ]
  }
 ],
 "metadata": {
  "kernelspec": {
   "display_name": "Python 3",
   "language": "python",
   "name": "python3"
  },
  "language_info": {
   "codemirror_mode": {
    "name": "ipython",
    "version": 3
   },
   "file_extension": ".py",
   "mimetype": "text/x-python",
   "name": "python",
   "nbconvert_exporter": "python",
   "pygments_lexer": "ipython3",
   "version": "3.6.12"
  }
 },
 "nbformat": 4,
 "nbformat_minor": 4
}
