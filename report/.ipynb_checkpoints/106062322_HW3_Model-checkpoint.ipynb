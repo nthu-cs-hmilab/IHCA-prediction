{
 "cells": [
  {
   "cell_type": "markdown",
   "metadata": {
    "id": "0oBzEYoX2_G_"
   },
   "source": [
    "## Predict Final Result Block\n",
    "跑完這個 block 以後，就可以得到 final CSV"
   ]
  },
  {
   "cell_type": "code",
   "execution_count": 1,
   "metadata": {
    "colab": {
     "base_uri": "https://localhost:8080/"
    },
    "id": "8mHFdYMV3Bys",
    "outputId": "f5b40d5e-05f4-4f70-d9f0-1e2bbc454360"
   },
   "outputs": [
    {
     "name": "stderr",
     "output_type": "stream",
     "text": [
      "  0%|          | 0/457 [00:00<?, ?it/s]/usr/local/anaconda3/lib/python3.7/site-packages/keras_preprocessing/image/utils.py:107: UserWarning: grayscale is deprecated. Please use color_mode = \"grayscale\"\n",
      "  warnings.warn('grayscale is deprecated. Please use '\n",
      "100%|██████████| 457/457 [00:01<00:00, 388.69it/s]\n"
     ]
    }
   ],
   "source": [
    "import tensorflow as tf\n",
    "from tensorflow import keras\n",
    "import pandas as pd\n",
    "import numpy as np\n",
    "from tqdm import tqdm\n",
    "import csv\n",
    "\n",
    "df = pd.read_csv(\"./hw3_meta/prediction_example.csv\")\n",
    "patientList = df['PATIENT ID'].tolist()\n",
    "\n",
    "data = []\n",
    "for id in tqdm(patientList):\n",
    "  filepath = './predicting_images/' + str(id) + '.jpg'\n",
    "  img = keras.preprocessing.image.load_img(filepath, grayscale=True, target_size=(64, 64))\n",
    "  img = np.array(img)\n",
    "  data.append(img)\n",
    "data = np.array(data).reshape(-1, 64, 64, 1)\n",
    "\n",
    "data = data / 255.0\n",
    "\n",
    "loadedModel = keras.models.load_model(\"./hw3_meta/model-10-1.143-0.30-0.68-f1-0.42.h5\")\n",
    "predict_ans = loadedModel.predict(data)\n",
    "predict_ans = predict_ans.round() # Force output to [0, 1]\n",
    "\n",
    "with open('106062322.csv', 'w', newline='') as csvfile:\n",
    "  writer = csv.writer(csvfile)\n",
    "  writer.writerow(['PATIENT ID', 'hospital_outcome'])\n",
    "  for idx, val in enumerate(predict_ans):\n",
    "    writer.writerow([ patientList[idx], int(predict_ans[idx][0])])\n"
   ]
  },
  {
   "cell_type": "markdown",
   "metadata": {
    "id": "VChRHark6ON3"
   },
   "source": [
    "## HW3: CNN implementation\n",
    "**It's unnecessary to run if only need to generate predict result!**\n",
    "\n",
    "\n",
    "## Data Preprocessing"
   ]
  },
  {
   "cell_type": "code",
   "execution_count": 2,
   "metadata": {
    "colab": {
     "base_uri": "https://localhost:8080/"
    },
    "id": "kxUTcBrW0piD",
    "outputId": "3f34fcbc-32d9-4092-dbbc-d5f85052ae46"
   },
   "outputs": [
    {
     "name": "stdout",
     "output_type": "stream",
     "text": [
      "Mounted at /content/drive\n"
     ]
    }
   ],
   "source": [
    "from google.colab import drive\n",
    "drive.mount(\"/content/drive\")\n",
    "\n",
    "import warnings\n",
    "warnings.simplefilter(action=\"ignore\", category=FutureWarning)"
   ]
  },
  {
   "cell_type": "code",
   "execution_count": 3,
   "metadata": {
    "colab": {
     "base_uri": "https://localhost:8080/"
    },
    "id": "7dIByc72z8oQ",
    "outputId": "de3ef53c-95db-4eeb-f2c6-a0516debc0ec"
   },
   "outputs": [
    {
     "name": "stderr",
     "output_type": "stream",
     "text": [
      "\r",
      "  0%|          | 0/1393 [00:00<?, ?it/s]/usr/local/lib/python3.6/dist-packages/keras_preprocessing/image/utils.py:107: UserWarning: grayscale is deprecated. Please use color_mode = \"grayscale\"\n",
      "  warnings.warn('grayscale is deprecated. Please use '\n",
      "100%|██████████| 1393/1393 [06:38<00:00,  3.49it/s]"
     ]
    },
    {
     "name": "stdout",
     "output_type": "stream",
     "text": [
      "image size: (1393, 64, 64, 1)\n"
     ]
    },
    {
     "name": "stderr",
     "output_type": "stream",
     "text": [
      "\n"
     ]
    }
   ],
   "source": [
    "import tensorflow as tf\n",
    "from tensorflow import keras\n",
    "import pandas as pd\n",
    "import numpy as np\n",
    "from tqdm import tqdm\n",
    "\n",
    "from tensorflow.keras import layers, models, preprocessing\n",
    "import matplotlib.pyplot as plt\n",
    "\n",
    "df = pd.read_csv(\"/content/drive/My Drive/ML-Homework/hw3/cxr_label_train.csv\")\n",
    "patient_ids = df['PATIENT ID'].tolist()\n",
    "label = np.array(df['hospital_outcome']).reshape(-1, 1)\n",
    "\n",
    "data = []\n",
    "for id in tqdm(patient_ids):\n",
    "  filepath = '/content/drive/My Drive/ML-Homework/hw3/training_images/' + str(id) + '.jpg'\n",
    "  img = preprocessing.image.load_img(filepath, grayscale=True, target_size=(64, 64))\n",
    "  img = np.array(img)\n",
    "  data.append(img)\n",
    "# 320x320 image size 1 -> color dimension\n",
    "data = np.array(data).reshape(-1, 64, 64, 1)\n",
    "\n",
    "data = data / 255.0\n",
    "\n",
    "print(f\"image size: {data.shape}\")"
   ]
  },
  {
   "cell_type": "code",
   "execution_count": 4,
   "metadata": {
    "colab": {
     "base_uri": "https://localhost:8080/"
    },
    "id": "3v5rYByIyThP",
    "outputId": "c720b75f-b57c-42e2-d32d-6db054dfbb2a"
   },
   "outputs": [
    {
     "name": "stdout",
     "output_type": "stream",
     "text": [
      "image training size: (1114, 64, 64, 1)\n",
      "label training size: (1114, 1)\n",
      "Distinct numbers: {0: 981, 1: 133}  133\n",
      "Dead Person Number: (133, 64, 64, 1)\n",
      "New Distinct numbers: {0: 1980, 1: 1940}  1940\n"
     ]
    }
   ],
   "source": [
    "from sklearn.model_selection import train_test_split\n",
    "from keras.preprocessing.image import ImageDataGenerator\n",
    "\n",
    "TRAIN_TEST_SPLIT_RATIO = 0.2\n",
    "image_training_data, image_validate_data, label_training_data, label_validate_data = train_test_split(data, label, test_size=TRAIN_TEST_SPLIT_RATIO, random_state=0)\n",
    "\n",
    "print(f\"image training size: {image_training_data.shape}\")\n",
    "print(f\"label training size: {label_training_data.shape}\")\n",
    "\n",
    "unique, counts = np.unique(label_training_data, return_counts=True)\n",
    "healthyNum = counts[0]\n",
    "deadNum = counts[1]\n",
    "print(f\"Distinct numbers: {dict(zip(unique, counts))}  {counts[1]}\")\n",
    "\n",
    "deadImgDataset = []\n",
    "deadlabelDataset = []\n",
    "for idx, label in enumerate(label_training_data):\n",
    "  if label == 1:\n",
    "    deadImgDataset.append(image_training_data[idx])\n",
    "    deadlabelDataset.append(label)\n",
    "\n",
    "deadImgDataset = np.array(deadImgDataset)\n",
    "deadlabelDataset = np.array(deadlabelDataset)\n",
    "\n",
    "print(f\"Dead Person Number: {deadImgDataset.shape}\")\n",
    "\n",
    "# Force to export numpy array \n",
    "# Reference to https://stackoverflow.com/questions/42284873/assign-imagedatagenerator-result-to-numpy-array\n",
    "datagen = ImageDataGenerator(\n",
    "    zca_whitening=False,\n",
    "    rotation_range=5,\n",
    "    width_shift_range=0.2,\n",
    "    height_shift_range=0.2,\n",
    "    shear_range=0.,\n",
    "    zoom_range=0.05,\n",
    "    horizontal_flip=False,\n",
    "    fill_mode='nearest'\n",
    ");\n",
    "\n",
    "newAddCount = 0\n",
    "for x_batch, y_batch in datagen.flow(deadImgDataset, deadlabelDataset, batch_size=32):\n",
    "  newAddCount += x_batch.shape[0]\n",
    "  if ((newAddCount + deadNum) > healthyNum): break\n",
    "  image_training_data = np.concatenate((image_training_data, x_batch))\n",
    "  label_training_data = np.concatenate((label_training_data, y_batch))\n",
    "\n",
    "newAddCount = 0\n",
    "for x_batch, y_batch in datagen.flow(image_training_data, label_training_data, batch_size=32):\n",
    "  newAddCount += x_batch.shape[0]\n",
    "  if (newAddCount > 2000): break\n",
    "  image_training_data = np.concatenate((image_training_data, x_batch))\n",
    "  label_training_data = np.concatenate((label_training_data, y_batch))\n",
    "\n",
    "unique, counts = np.unique(label_training_data, return_counts=True)\n",
    "print(f\"New Distinct numbers: {dict(zip(unique, counts))}  {counts[1]}\")"
   ]
  },
  {
   "cell_type": "code",
   "execution_count": 6,
   "metadata": {
    "id": "BMg5WWQTtYDy"
   },
   "outputs": [],
   "source": [
    "import matplotlib.pyplot as plt\n",
    "from sklearn import metrics\n",
    "from sklearn.metrics import roc_curve, auc\n",
    "import seaborn\n",
    "# plot ROC curve\n",
    "def plot_roc(label, pred):\n",
    "  fpr, tpr, _ = roc_curve(label, pred)\n",
    "  roc_auc = auc(fpr, tpr)\n",
    "\n",
    "  fig = plt.figure()\n",
    "  lw = 2\n",
    "  plt.plot(fpr, tpr, color='darkorange', lw=lw, label='ROC curve (area = %0.2f)' % roc_auc)\n",
    "  plt.plot([0, 1], [0, 1], color='navy', lw=lw, linestyle='--')\n",
    "  plt.xlim([0.0, 1.0])\n",
    "  plt.ylim([0.0, 1.0])\n",
    "  plt.xlabel('False Positive Rate')\n",
    "  plt.ylabel('True Positive Rate')\n",
    "  plt.legend(loc=\"lower right\")\n",
    "  plt.show()\n",
    "  return\n",
    "\n",
    "def plot_precision_recall(label, pred):\n",
    "  precision = metrics.precision_score(label, pred)\n",
    "  recall = metrics.recall_score(label, pred)\n",
    "  confusion_metrix = metrics.confusion_matrix(label, pred)\n",
    "  seaborn.heatmap(confusion_metrix, annot=True, fmt=\"d\", cmap=\"YlGnBu\", cbar=False)\n",
    "  plt.show()\n",
    "  print(f\"Precision: {precision}\")\n",
    "  print(f\"Recall: {recall}\")\n",
    "  print(f\"Precision + Recall: {precision + recall}\")\n",
    "  # print(precision, recall)\n",
    "  # print(confusion_metrix)\n",
    "  return\n",
    "\n",
    "def plot_loss(history):\n",
    "  plt.plot(history.history['loss'])\n",
    "  plt.plot(history.history['val_loss'])\n",
    "  plt.title('Model loss')\n",
    "  plt.ylabel('Loss')\n",
    "  plt.xlabel('Epoch')\n",
    "  plt.legend(['Train', 'Test'], loc='upper right')\n",
    "  plt.show()\n",
    "  return"
   ]
  },
  {
   "cell_type": "code",
   "execution_count": 130,
   "metadata": {
    "colab": {
     "base_uri": "https://localhost:8080/"
    },
    "id": "BpgVRFK_2A3e",
    "outputId": "1564c634-d6e1-47b3-b9e0-aa54e9c3f6d6"
   },
   "outputs": [
    {
     "name": "stdout",
     "output_type": "stream",
     "text": [
      "Model: \"sequential_6\"\n",
      "_________________________________________________________________\n",
      "Layer (type)                 Output Shape              Param #   \n",
      "=================================================================\n",
      "conv2d_18 (Conv2D)           (None, 29, 29, 32)        1600      \n",
      "_________________________________________________________________\n",
      "max_pooling2d_6 (MaxPooling2 (None, 14, 14, 32)        0         \n",
      "_________________________________________________________________\n",
      "batch_normalization_18 (Batc (None, 14, 14, 32)        128       \n",
      "_________________________________________________________________\n",
      "conv2d_19 (Conv2D)           (None, 6, 6, 32)          9248      \n",
      "_________________________________________________________________\n",
      "batch_normalization_19 (Batc (None, 6, 6, 32)          128       \n",
      "_________________________________________________________________\n",
      "conv2d_20 (Conv2D)           (None, 2, 2, 32)          9248      \n",
      "_________________________________________________________________\n",
      "batch_normalization_20 (Batc (None, 2, 2, 32)          128       \n",
      "_________________________________________________________________\n",
      "flatten_6 (Flatten)          (None, 128)               0         \n",
      "_________________________________________________________________\n",
      "dense_12 (Dense)             (None, 128)               16512     \n",
      "_________________________________________________________________\n",
      "dense_13 (Dense)             (None, 1)                 129       \n",
      "=================================================================\n",
      "Total params: 37,121\n",
      "Trainable params: 36,929\n",
      "Non-trainable params: 192\n",
      "_________________________________________________________________\n"
     ]
    }
   ],
   "source": [
    "def net():\n",
    "  model = models.Sequential()\n",
    "\n",
    "  # image data extraction\n",
    "  model.add(layers.Conv2D(32, (7, 7), strides=2, input_shape=(64, 64, 1), activation='relu'))\n",
    "  model.add(layers.MaxPooling2D(pool_size=(2, 2)))\n",
    "  model.add(layers.BatchNormalization())\n",
    "\n",
    "  model.add(layers.Conv2D(32, (3, 3), strides=2, activation='relu'))\n",
    "  model.add(layers.BatchNormalization())\n",
    "\n",
    "  model.add(layers.Conv2D(32, (3, 3), strides=2, activation='relu'))\n",
    "  model.add(layers.BatchNormalization())\n",
    "\n",
    "  model.add(layers.Flatten())\n",
    "  model.add(layers.Dense(units=128, activation=\"relu\"))\n",
    "  model.add(layers.Dense(units=1, activation=\"sigmoid\"))\n",
    "  return model\n",
    "model = net()\n",
    "model.summary()"
   ]
  },
  {
   "cell_type": "code",
   "execution_count": 138,
   "metadata": {
    "id": "qPOZTilzG2of"
   },
   "outputs": [],
   "source": [
    "!rm -rf ./tmp"
   ]
  },
  {
   "cell_type": "code",
   "execution_count": 139,
   "metadata": {
    "colab": {
     "base_uri": "https://localhost:8080/"
    },
    "id": "K9IuZ-fV-9Pw",
    "outputId": "698b5936-3c1c-417d-8b94-011535dd3608"
   },
   "outputs": [
    {
     "name": "stdout",
     "output_type": "stream",
     "text": [
      "WARNING:tensorflow:`epsilon` argument is deprecated and will be removed, use `min_delta` instead.\n",
      "Epoch 1/10\n",
      "62/62 [==============================] - 5s 64ms/step - loss: 0.0634 - precision_41: 0.9744 - recall_41: 0.9753 - val_loss: 1.6924 - val_precision_41: 0.2639 - val_recall_41: 0.6129\n",
      "Epoch 2/10\n",
      "62/62 [==============================] - 4s 60ms/step - loss: 0.0852 - precision_41: 0.9668 - recall_41: 0.9767 - val_loss: 1.6066 - val_precision_41: 0.2241 - val_recall_41: 0.4194\n",
      "Epoch 3/10\n",
      "62/62 [==============================] - 4s 61ms/step - loss: 0.0615 - precision_41: 0.9761 - recall_41: 0.9823 - val_loss: 2.2529 - val_precision_41: 0.2000 - val_recall_41: 0.5484\n",
      "Epoch 4/10\n",
      "62/62 [==============================] - 4s 59ms/step - loss: 0.0641 - precision_41: 0.9824 - recall_41: 0.9731 - val_loss: 1.4273 - val_precision_41: 0.3171 - val_recall_41: 0.4194\n",
      "Epoch 5/10\n",
      "62/62 [==============================] - 4s 59ms/step - loss: 0.0376 - precision_41: 0.9866 - recall_41: 0.9899 - val_loss: 1.3244 - val_precision_41: 0.2778 - val_recall_41: 0.4839\n",
      "Epoch 6/10\n",
      "62/62 [==============================] - 4s 57ms/step - loss: 0.0360 - precision_41: 0.9874 - recall_41: 0.9857 - val_loss: 2.1810 - val_precision_41: 0.2394 - val_recall_41: 0.5484\n",
      "Epoch 7/10\n",
      "62/62 [==============================] - 4s 60ms/step - loss: 0.0856 - precision_41: 0.9711 - recall_41: 0.9679 - val_loss: 1.2961 - val_precision_41: 0.2982 - val_recall_41: 0.5484\n",
      "Epoch 8/10\n",
      "62/62 [==============================] - 4s 61ms/step - loss: 0.0712 - precision_41: 0.9763 - recall_41: 0.9772 - val_loss: 2.5992 - val_precision_41: 0.2727 - val_recall_41: 0.2903\n",
      "Epoch 9/10\n",
      "62/62 [==============================] - 4s 57ms/step - loss: 0.0734 - precision_41: 0.9834 - recall_41: 0.9765 - val_loss: 1.0634 - val_precision_41: 0.2759 - val_recall_41: 0.5161\n",
      "Epoch 10/10\n",
      "62/62 [==============================] - 4s 58ms/step - loss: 0.1602 - precision_41: 0.9423 - recall_41: 0.9523 - val_loss: 0.9991 - val_precision_41: 0.2034 - val_recall_41: 0.3871\n"
     ]
    }
   ],
   "source": [
    "from keras.metrics import Precision, Recall\n",
    "from keras.callbacks import ReduceLROnPlateau\n",
    "\n",
    "opt = tf.keras.optimizers.Adam(learning_rate=0.01)\n",
    "\n",
    "# early_stop = keras.callbacks.EarlyStopping(monitor='val_loss', patience=5)\n",
    "\n",
    "checkpoint_filepath = \"./tmp/model-{epoch:02d}-{val_loss:.3f}-{val_precision_41:.2f}-{val_recall_41:.2f}.h5\"\n",
    "model_checkpoint = keras.callbacks.ModelCheckpoint(checkpoint_filepath, save_best_only=False, save_weights_only=False)\n",
    "\n",
    "model.compile(\n",
    "    optimizer=opt,\n",
    "    loss=\"binary_crossentropy\",\n",
    "    metrics=[Precision(), Recall()]\n",
    ")\n",
    "history = model.fit(\n",
    "    image_training_data,\n",
    "    label_training_data,\n",
    "    epochs=10,\n",
    "    batch_size=64,\n",
    "    validation_data=(image_validate_data, label_validate_data),\n",
    "    callbacks=[\n",
    "      model_checkpoint,\n",
    "      ReduceLROnPlateau(monitor='val_loss', factor=0.1, patience=10, verbose=0, mode='auto', epsilon=0.0001, cooldown=0, min_lr=0)\n",
    "    ]\n",
    ")"
   ]
  },
  {
   "cell_type": "code",
   "execution_count": 95,
   "metadata": {
    "colab": {
     "base_uri": "https://localhost:8080/",
     "height": 628
    },
    "id": "bLMpMm7h_s40",
    "outputId": "2b814468-7e47-4e95-9e60-760e8829a34d"
   },
   "outputs": [
    {
     "data": {
      "image/png": "[encoded data removed]",
      "text/plain": [
       "<Figure size 432x288 with 1 Axes>"
      ]
     },
     "metadata": {
      "needs_background": "light",
      "tags": []
     },
     "output_type": "display_data"
    },
    {
     "data": {
      "image/png": "[encoded data removed]",
      "text/plain": [
       "<Figure size 432x288 with 1 Axes>"
      ]
     },
     "metadata": {
      "needs_background": "light",
      "tags": []
     },
     "output_type": "display_data"
    },
    {
     "name": "stdout",
     "output_type": "stream",
     "text": [
      "Precision: 0.1111111111111111\n",
      "Recall: 0.03225806451612903\n",
      "Precision + Recall: 0.14336917562724014\n",
      "f1 score: 0.049999999999999996\n",
      "f1 score: 0.04999996487502417\n"
     ]
    }
   ],
   "source": [
    " plot_loss(history)\n",
    "predict_result = model.predict(image_validate_data)\n",
    "predict_result = predict_result.round() # Force output to [0, 1]\n",
    "# plot_roc(testing_ans_list, predict_result)\n",
    "plot_precision_recall(label_validate_data, predict_result)\n",
    "print(f\"f1 score: {metrics.f1_score(label_validate_data, predict_result)}\")\n"
   ]
  },
  {
   "cell_type": "code",
   "execution_count": 7,
   "metadata": {
    "colab": {
     "base_uri": "https://localhost:8080/",
     "height": 333
    },
    "id": "uB5AbIoa1aEm",
    "outputId": "dd3bc961-228a-49fc-de68-2f05cbcd580d"
   },
   "outputs": [
    {
     "data": {
      "image/png": "[encoded data removed]",
      "text/plain": [
       "<Figure size 432x288 with 1 Axes>"
      ]
     },
     "metadata": {
      "needs_background": "light",
      "tags": []
     },
     "output_type": "display_data"
    },
    {
     "name": "stdout",
     "output_type": "stream",
     "text": [
      "Precision: 0.30434782608695654\n",
      "Recall: 0.6774193548387096\n",
      "Precision + Recall: 0.9817671809256662\n",
      "f1 score: 0.42\n"
     ]
    }
   ],
   "source": [
    "loadedModel = keras.models.load_model(\"./model-10-1.143-0.30-0.68-f1-0.42.h5\")\n",
    "predict_ans = loadedModel.predict(image_validate_data)\n",
    "predict_ans = predict_ans.round() # Force output to [0, 1]\n",
    "plot_precision_recall(label_validate_data, predict_ans)\n",
    "print(f\"f1 score: {metrics.f1_score(label_validate_data, predict_ans)}\")"
   ]
  }
 ],
 "metadata": {
  "colab": {
   "collapsed_sections": [],
   "name": "106062322_HW3_Model.ipynb",
   "provenance": []
  },
  "kernelspec": {
   "display_name": "Python 3 (ipykernel)",
   "language": "python",
   "name": "python3"
  },
  "language_info": {
   "codemirror_mode": {
    "name": "ipython",
    "version": 3
   },
   "file_extension": ".py",
   "mimetype": "text/x-python",
   "name": "python",
   "nbconvert_exporter": "python",
   "pygments_lexer": "ipython3",
   "version": "3.7.13"
  }
 },
 "nbformat": 4,
 "nbformat_minor": 1
}
