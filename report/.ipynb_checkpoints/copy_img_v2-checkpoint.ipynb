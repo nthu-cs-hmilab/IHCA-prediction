{
 "cells": [
  {
   "cell_type": "code",
   "execution_count": null,
   "metadata": {},
   "outputs": [],
   "source": [
    "import shutil\n",
    "import pandas as pd # data processing, CSV file I/O (e.g. pd.read_csv)\n",
    "import os\n",
    "cxr=pd.read_csv(\"cxr_control_dead_v2_single.csv\")\n",
    "\n",
    "#目录自己改一下即可\n",
    "path = \"C:\\\\Users\\\\Tony\\\\my_final_report\\\\Little_dataset\"  \n",
    "new_path = \"C:\\\\Users\\\\Tony\\\\my_final_report\\\\cxr_control_v2_dead\"\n",
    "\n",
    "#for file in os.listdir(path):\n",
    "\n",
    "for index, row in cxr.iterrows():\n",
    "    item=row[\"dicom_id\"]+'.jpg'\n",
    "    check=path+\"\\\\\"+item\n",
    "    if  os.path.exists(check):\n",
    "        full_file = os.path.join(path, item)\n",
    "        new_full_file = os.path.join(new_path, item)\n",
    "        shutil.copy(full_file, new_full_file)\n",
    "#    if file==\"a917c883-720a5bbf-02c84fc6-98ad00ac-c562ff80.jpg\":\n",
    "   \n",
    "#for index, row in cxr.iterrows():\n",
    "#    item=row[\"dicom_id\"]+'.jpg'\n",
    "#    print(item)\n",
    "\n",
    "print(\"complete!\")\n",
    "\n",
    "print(cxr.shape)"
   ]
  },
  {
   "cell_type": "code",
   "execution_count": 9,
   "metadata": {},
   "outputs": [
    {
     "name": "stdout",
     "output_type": "stream",
     "text": [
      "8584\n",
      "complete!\n",
      "(8584, 11)\n"
     ]
    }
   ],
   "source": [
    "#每張都抓\n",
    "import shutil\n",
    "import pandas as pd # data processing, CSV file I/O (e.g. pd.read_csv)\n",
    "import os\n",
    "cxr=pd.read_csv(\"cxr_control_mutli_ca_v2_single.csv\")\n",
    "\n",
    "count =0\n",
    "#目录自己改一下即可\n",
    "path = \"C:\\\\Users\\\\Tony\\\\my_final_report\\\\Little_dataset\"  \n",
    "new_path = \"C:\\\\Users\\\\Tony\\\\my_final_report\\\\cxr_control_v2_mutli_ca\"\n",
    "\n",
    "#for file in os.listdir(path):\n",
    "\n",
    "for index, row in cxr.iterrows():\n",
    "    item=row[\"dicom_id\"]+'.jpg'\n",
    "    check=path+\"\\\\\"+item\n",
    "    if  os.path.exists(check):\n",
    "        count=count+1\n",
    "        full_file = os.path.join(path, item)\n",
    "        new_full_file = os.path.join(new_path, item)\n",
    "        shutil.copy(full_file, new_full_file)\n",
    "#    if file==\"a917c883-720a5bbf-02c84fc6-98ad00ac-c562ff80.jpg\":\n",
    "   \n",
    "#for index, row in cxr.iterrows():\n",
    "#    item=row[\"dicom_id\"]+'.jpg'\n",
    "#    print(item)\n",
    "print(count)\n",
    "\n",
    "print(\"complete!\")\n",
    "\n",
    "print(cxr.shape)"
   ]
  },
  {
   "cell_type": "code",
   "execution_count": 5,
   "metadata": {},
   "outputs": [
    {
     "name": "stdout",
     "output_type": "stream",
     "text": [
      "8192\n",
      "complete!\n",
      "8192\n"
     ]
    }
   ],
   "source": [
    "#一個病人抓一張\n",
    "import shutil\n",
    "import pandas as pd # data processing, CSV file I/O (e.g. pd.read_csv)\n",
    "import os\n",
    "cxr=pd.read_csv(\"cxr_control_dead_v2_single.csv\")\n",
    "path = \"C:\\\\Users\\\\Tony\\\\my_final_report\\\\Little_dataset\"  \n",
    "new_path = \"C:\\\\Users\\\\Tony\\\\my_final_report\\\\cxr_control_v2_dead\"\n",
    "count =0\n",
    "count_aa=0\n",
    "for index, row in cxr.iterrows():\n",
    "    if count==0:\n",
    "       item=row[\"dicom_id\"]+'.jpg'\n",
    "       check=path+\"\\\\\"+item   \n",
    "       temp=row[\"subject_id\"]\n",
    "       count=count+1\n",
    "       if  os.path.exists(check):\n",
    "                #  full_file = os.path.join(path, item)\n",
    "                #  new_full_file = os.path.join(new_path, item)\n",
    "                #  shutil.copy(full_file, new_full_file)\n",
    "                  count_aa=count_aa+1\n",
    "       #print(temp)\n",
    "    else:\n",
    "       p_id=row[\"subject_id\"]\n",
    "       if temp!=p_id:\n",
    "           item=row[\"dicom_id\"]+'.jpg'\n",
    "           check=path+\"\\\\\"+item           \n",
    "           temp=p_id\n",
    "           count=count+1                      \n",
    "           #print(check)\n",
    "           if  os.path.exists(check):\n",
    "                 # full_file = os.path.join(path, item)\n",
    "                 # new_full_file = os.path.join(new_path, item)\n",
    "                 # shutil.copy(full_file, new_full_file)\n",
    "                  count_aa=count_aa+1\n",
    "           \n",
    "print(count)\n",
    "print(\"complete!\")\n",
    "print(count_aa)\n",
    "#print(cxr_test)"
   ]
  }
 ],
 "metadata": {
  "kernelspec": {
   "display_name": "Python 3",
   "language": "python",
   "name": "python3"
  },
  "language_info": {
   "codemirror_mode": {
    "name": "ipython",
    "version": 3
   },
   "file_extension": ".py",
   "mimetype": "text/x-python",
   "name": "python",
   "nbconvert_exporter": "python",
   "pygments_lexer": "ipython3",
   "version": "3.6.12"
  }
 },
 "nbformat": 4,
 "nbformat_minor": 4
}
