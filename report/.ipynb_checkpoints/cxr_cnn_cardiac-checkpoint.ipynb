{
 "cells": [
  {
   "cell_type": "code",
   "execution_count": 33,
   "id": "ef505cca",
   "metadata": {},
   "outputs": [
    {
     "name": "stdout",
     "output_type": "stream",
     "text": [
      "(7132, 256, 256, 3)\n",
      "(1452, 256, 256, 3)\n",
      "(3100, 256, 256, 3)\n",
      "(3100,)\n",
      "[[[0.39453125 0.39453125 0.39453125]\n",
      "  [0.15625    0.15625    0.15625   ]\n",
      "  [0.10546875 0.10546875 0.10546875]\n",
      "  ...\n",
      "  [0.10546875 0.10546875 0.10546875]\n",
      "  [0.10546875 0.10546875 0.10546875]\n",
      "  [0.10546875 0.10546875 0.10546875]]\n",
      "\n",
      " [[0.3671875  0.3671875  0.3671875 ]\n",
      "  [0.1484375  0.1484375  0.1484375 ]\n",
      "  [0.1015625  0.1015625  0.1015625 ]\n",
      "  ...\n",
      "  [0.10546875 0.10546875 0.10546875]\n",
      "  [0.10546875 0.10546875 0.10546875]\n",
      "  [0.10546875 0.10546875 0.10546875]]\n",
      "\n",
      " [[0.32421875 0.32421875 0.32421875]\n",
      "  [0.1328125  0.1328125  0.1328125 ]\n",
      "  [0.1015625  0.1015625  0.1015625 ]\n",
      "  ...\n",
      "  [0.10546875 0.10546875 0.10546875]\n",
      "  [0.10546875 0.10546875 0.10546875]\n",
      "  [0.10546875 0.10546875 0.10546875]]\n",
      "\n",
      " ...\n",
      "\n",
      " [[0.7890625  0.7890625  0.7890625 ]\n",
      "  [0.8046875  0.8046875  0.8046875 ]\n",
      "  [0.828125   0.828125   0.828125  ]\n",
      "  ...\n",
      "  [0.08203125 0.08203125 0.08203125]\n",
      "  [0.08203125 0.08203125 0.08203125]\n",
      "  [0.08203125 0.08203125 0.08203125]]\n",
      "\n",
      " [[0.8046875  0.8046875  0.8046875 ]\n",
      "  [0.8203125  0.8203125  0.8203125 ]\n",
      "  [0.84375    0.84375    0.84375   ]\n",
      "  ...\n",
      "  [0.0859375  0.0859375  0.0859375 ]\n",
      "  [0.0859375  0.0859375  0.0859375 ]\n",
      "  [0.08203125 0.08203125 0.08203125]]\n",
      "\n",
      " [[0.82421875 0.82421875 0.82421875]\n",
      "  [0.83984375 0.83984375 0.83984375]\n",
      "  [0.859375   0.859375   0.859375  ]\n",
      "  ...\n",
      "  [0.08984375 0.08984375 0.08984375]\n",
      "  [0.08984375 0.08984375 0.08984375]\n",
      "  [0.08984375 0.08984375 0.08984375]]]\n"
     ]
    }
   ],
   "source": [
    "# 1. Set the `PYTHONHASHSEED` environment variable at a fixed value\n",
    "import os\n",
    "os.environ['PYTHONHASHSEED']=str(0)\n",
    "os.environ['CUDA_VISIBLE_DEVICES'] = ''\n",
    "\n",
    "# 2. Set the `python` built-in pseudo-random generator at a fixed value\n",
    "import random\n",
    "random.seed(2)\n",
    "\n",
    "# 3. Set the `numpy` pseudo-random generator at a fixed value\n",
    "import numpy as np\n",
    "np.random.seed(24)\n",
    "\n",
    "# 4. Set the `tensorflow` pseudo-random generator at a fixed value\n",
    "import tensorflow as tf\n",
    "tf.random.set_seed(26)\n",
    "\n",
    "# 5. Configure a new global `tensorflow` session\n",
    "#from keras import backend as K\n",
    "\n",
    "from tensorflow.python.keras import backend as K\n",
    "\n",
    "session_conf = tf.compat.v1.ConfigProto(intra_op_parallelism_threads=1, inter_op_parallelism_threads=1)\n",
    "sess = tf.compat.v1.Session(graph=tf.compat.v1.get_default_graph(), config=session_conf)\n",
    "K.set_session(sess)\n",
    "\n",
    "\n",
    "import os\n",
    "import cv2\n",
    "import pandas as pd # data processing, CSV file I/O (e.g. pd.read_csv)\n",
    "import numpy as np\n",
    "import os\n",
    "from keras.models import Sequential, load_model\n",
    "from tensorflow.keras.models import load_model\n",
    "from keras.layers import Dense, Dropout, Flatten, Conv2D, MaxPool2D\n",
    "from keras.utils import np_utils\n",
    "from keras.datasets import mnist\n",
    "from keras.models import Sequential\n",
    "from keras.applications.densenet import DenseNet121 as DenseNet121\n",
    "from sklearn import preprocessing  #用來標準化刻度\n",
    "\n",
    "#import matplotlib.pyplot as plt\n",
    "\n",
    "\n",
    "cxr=pd.read_csv(\"cxr_control_mutli_ca_v2_single.csv\")\n",
    "count=0\n",
    "train_x = [] \n",
    "test_x = [] \n",
    "train_y = [] \n",
    "test_y = [] \n",
    "\n",
    "for index, row in cxr.iterrows():\n",
    "    if count<7132:\n",
    "            img = cv2.imread(\"cxr_control_v2_mutli_ca\" + \"/\" + row[\"dicom_id\"]+\".jpg\")\n",
    "         #  img = cv2.resize(img, (64, 64)) \n",
    "            train_x.append(img)\n",
    "            train_y.append(row[\"eventV3\"])\n",
    "            count=count+1\n",
    "    else :\n",
    "        img = cv2.imread(\"cxr_control_v2_mutli_ca\" + \"/\" + row[\"dicom_id\"]+\".jpg\")\n",
    "        # img = cv2.resize(img, (64, 64)) \n",
    "        test_x.append(img)\n",
    "        test_y.append(row[\"eventV3\"])\n",
    "        count=count+1\n",
    "\n",
    "train_x=np.array(train_x)\n",
    "test_x=np.array(test_x)\n",
    "\n",
    "train_y=np.array(train_y)\n",
    "test_y=np.array(test_y)\n",
    "\n",
    "#train_x = train_x.reshape(7305, 256, 256, 3)\n",
    "#test_x = test_x.reshape(1502, 256, 256, 3)\n",
    "\n",
    "train_x=train_x/256\n",
    "test_x=test_x/256\n",
    "\n",
    "print(train_x.shape)\n",
    "print(test_x.shape)\n",
    "\n",
    "train_x_temp=np.concatenate((train_x[:1550], train_x[-1550:]))\n",
    "train_y_temp=np.concatenate((train_y[:1550], train_y[-1550:]))\n",
    "\n",
    "print(train_x_temp.shape)\n",
    "print(train_y_temp.shape)"
   ]
  },
  {
   "cell_type": "code",
   "execution_count": 34,
   "id": "6eadecc2",
   "metadata": {},
   "outputs": [
    {
     "name": "stdout",
     "output_type": "stream",
     "text": [
      "(7132,)\n",
      "1550\n",
      "[0 0 0 ... 1 1 1]\n",
      "1550\n"
     ]
    }
   ],
   "source": [
    "print(train_y.shape)\n",
    "print(np.sum(train_y))\n",
    "print(train_y_temp)\n",
    "print(np.sum(train_y_temp))"
   ]
  },
  {
   "cell_type": "code",
   "execution_count": 35,
   "id": "217d52f4",
   "metadata": {},
   "outputs": [
    {
     "name": "stdout",
     "output_type": "stream",
     "text": [
      "Model: \"sequential_5\"\n",
      "_________________________________________________________________\n",
      "Layer (type)                 Output Shape              Param #   \n",
      "=================================================================\n",
      "conv2d_15 (Conv2D)           (None, 125, 125, 128)     24704     \n",
      "_________________________________________________________________\n",
      "max_pooling2d_5 (MaxPooling2 (None, 62, 62, 128)       0         \n",
      "_________________________________________________________________\n",
      "batch_normalization_15 (Batc (None, 62, 62, 128)       512       \n",
      "_________________________________________________________________\n",
      "conv2d_16 (Conv2D)           (None, 30, 30, 128)       262272    \n",
      "_________________________________________________________________\n",
      "batch_normalization_16 (Batc (None, 30, 30, 128)       512       \n",
      "_________________________________________________________________\n",
      "conv2d_17 (Conv2D)           (None, 15, 15, 128)       65664     \n",
      "_________________________________________________________________\n",
      "batch_normalization_17 (Batc (None, 15, 15, 128)       512       \n",
      "_________________________________________________________________\n",
      "flatten_5 (Flatten)          (None, 28800)             0         \n",
      "_________________________________________________________________\n",
      "dense_10 (Dense)             (None, 256)               7373056   \n",
      "_________________________________________________________________\n",
      "dense_11 (Dense)             (None, 1)                 257       \n",
      "=================================================================\n",
      "Total params: 7,727,489\n",
      "Trainable params: 7,726,721\n",
      "Non-trainable params: 768\n",
      "_________________________________________________________________\n"
     ]
    }
   ],
   "source": [
    "from tensorflow.keras import layers, models, preprocessing\n",
    "from keras.layers import Dense, LSTM, BatchNormalization ,MaxPool2D\n",
    "\n",
    "class_weight={0:1,1:13}\n",
    "\n",
    "model = Sequential()\n",
    "model.add(Conv2D(128, (8, 8), strides=2, input_shape=(256, 256, 3), activation='relu'))\n",
    "model.add(MaxPool2D(pool_size=(2, 2)))\n",
    "model.add(BatchNormalization())\n",
    "#model.add(Dropout(0.3))\n",
    "\n",
    "model.add(Conv2D(128, (4, 4), strides=2, activation='relu'))\n",
    "model.add(BatchNormalization())\n",
    "#model.add(Dropout(0.3))\n",
    "\n",
    "model.add(Conv2D(128, (2, 2), strides=2, activation='relu'))\n",
    "model.add(BatchNormalization())\n",
    "#model.add(Dropout(0.3))\n",
    "\n",
    "model.add(Flatten())\n",
    "model.add(Dense(units=256, activation=\"relu\"))\n",
    "model.add(Dense(units=1, activation=\"sigmoid\"))\n",
    "\n",
    "model.summary()\n",
    "\n",
    "model.compile(loss='binary_crossentropy',optimizer='adam', metrics=['accuracy']) #binary_crossentropy categorical_crossentropy"
   ]
  },
  {
   "cell_type": "code",
   "execution_count": null,
   "id": "a7106455",
   "metadata": {},
   "outputs": [],
   "source": [
    "train_history = model.fit(x=train_x_temp, y=train_y_temp, validation_split=0.2, epochs=10, batch_size=32, verbose=2,class_weight=class_weight)\n",
    "#train_history = model.fit(x=train_x, y=train_y, validation_split=0.2, epochs=10, batch_size=32, verbose=2,class_weight=class_weight)\n"
   ]
  },
  {
   "cell_type": "code",
   "execution_count": null,
   "id": "0963f0c4",
   "metadata": {},
   "outputs": [],
   "source": [
    "neur_test_y_predicted = model.predict(test_x)\n",
    "predict_test=[]\n",
    "for i in range(neur_test_y_predicted.shape[0]): \n",
    "    if neur_test_y_predicted[i]>0.5:\n",
    "        predict_test.append(1)\n",
    "    else:\n",
    "        predict_test.append(0)\n",
    "predict_test = np.array(predict_test)\n",
    "\n",
    "#print(predict_test)\n",
    "\n",
    "from sklearn.metrics import accuracy_score, f1_score,precision_score,recall_score,confusion_matrix\n",
    "\n",
    "cm1 = confusion_matrix(test_y,predict_test)\n",
    "\n",
    "sensitivity = cm1[1,1]/(cm1[1,0]+cm1[1,1])   #TPR\n",
    "specificity = cm1[0,0]/(cm1[0,0]+cm1[0,1])   #FPR\n",
    "\n",
    "#print('Precision:',precision_score(y_test_1, predict_test))\n",
    "#print('Recall:', recall_score(y_test_1, predict_test))\n",
    "#print('f1-score: %f' % f1_score(y_test_1, predict_test))\n",
    "print('Accuracy: %f' % accuracy_score(test_y, predict_test))\n",
    "print('Sensitivity : %0.2f' % sensitivity )\n",
    "print('Specificity :%0.2f' % specificity)\n",
    "\n",
    "pd.crosstab(test_y,predict_test,rownames=['label'],colnames=['predict'])\n"
   ]
  },
  {
   "cell_type": "code",
   "execution_count": 50,
   "id": "0f8c351c",
   "metadata": {},
   "outputs": [],
   "source": [
    "pd_neur_test_y_predicted=pd.DataFrame(neur_test_y_predicted)\n",
    "pd_neur_test_y_predicted.to_csv('neur_test1.csv', index=False)"
   ]
  },
  {
   "cell_type": "code",
   "execution_count": 46,
   "id": "38976768",
   "metadata": {},
   "outputs": [
    {
     "data": {
      "text/plain": [
       "(1452, 1)"
      ]
     },
     "execution_count": 46,
     "metadata": {},
     "output_type": "execute_result"
    }
   ],
   "source": [
    "pd_neur_test_y_predicted.shape"
   ]
  },
  {
   "cell_type": "code",
   "execution_count": 47,
   "id": "0ca0608a",
   "metadata": {},
   "outputs": [
    {
     "data": {
      "text/plain": [
       "<Figure size 432x288 with 0 Axes>"
      ]
     },
     "metadata": {},
     "output_type": "display_data"
    },
    {
     "data": {
      "image/png": "[encoded data removed]",
      "text/plain": [
       "<Figure size 720x720 with 1 Axes>"
      ]
     },
     "metadata": {
      "needs_background": "light"
     },
     "output_type": "display_data"
    }
   ],
   "source": [
    "from sklearn.metrics import roc_curve, auc\n",
    "import matplotlib.pyplot as plt   # plotting\n",
    "# Compute ROC curve and ROC area for each class\n",
    "fpr,tpr,threshold = roc_curve(test_y, neur_test_y_predicted) ###計算真正率和假正率\n",
    "roc_auc = auc(fpr,tpr) ###計算auc的值\n",
    "plt.figure()\n",
    "lw = 2\n",
    "plt.figure(figsize=(10,10))\n",
    "plt.plot(fpr, tpr, color='darkorange',\n",
    "lw=lw, label='ROC curve (area = %0.2f)' % roc_auc) ###假正率為橫座標，真正率為縱座標做曲線\n",
    "plt.plot([0, 1], [0, 1], color='navy', lw=lw, linestyle='--')\n",
    "plt.xlim([0.0, 1.0])\n",
    "plt.ylim([0.0, 1.0])\n",
    "plt.xlabel('False Positive Rate')\n",
    "plt.ylabel('True Positive Rate')\n",
    "plt.title('eicu_total_new')\n",
    "plt.legend(loc=\"lower right\")\n",
    "\n",
    "plt.show()\n"
   ]
  },
  {
   "cell_type": "code",
   "execution_count": 48,
   "id": "e0ac9ceb",
   "metadata": {},
   "outputs": [
    {
     "name": "stdout",
     "output_type": "stream",
     "text": [
      "Accuracy: 0.542903\n",
      "Sensitivity : 0.10\n",
      "Specificity :0.99\n"
     ]
    },
    {
     "data": {
      "text/html": [
       "<div>\n",
       "<style scoped>\n",
       "    .dataframe tbody tr th:only-of-type {\n",
       "        vertical-align: middle;\n",
       "    }\n",
       "\n",
       "    .dataframe tbody tr th {\n",
       "        vertical-align: top;\n",
       "    }\n",
       "\n",
       "    .dataframe thead th {\n",
       "        text-align: right;\n",
       "    }\n",
       "</style>\n",
       "<table border=\"1\" class=\"dataframe\">\n",
       "  <thead>\n",
       "    <tr style=\"text-align: right;\">\n",
       "      <th>predict</th>\n",
       "      <th>0</th>\n",
       "      <th>1</th>\n",
       "    </tr>\n",
       "    <tr>\n",
       "      <th>label</th>\n",
       "      <th></th>\n",
       "      <th></th>\n",
       "    </tr>\n",
       "  </thead>\n",
       "  <tbody>\n",
       "    <tr>\n",
       "      <th>0</th>\n",
       "      <td>1532</td>\n",
       "      <td>18</td>\n",
       "    </tr>\n",
       "    <tr>\n",
       "      <th>1</th>\n",
       "      <td>1399</td>\n",
       "      <td>151</td>\n",
       "    </tr>\n",
       "  </tbody>\n",
       "</table>\n",
       "</div>"
      ],
      "text/plain": [
       "predict     0    1\n",
       "label             \n",
       "0        1532   18\n",
       "1        1399  151"
      ]
     },
     "execution_count": 48,
     "metadata": {},
     "output_type": "execute_result"
    }
   ],
   "source": [
    "neur_train_y_predicted = model.predict(train_x_temp)\n",
    "predict_train=[]\n",
    "for i in range(neur_train_y_predicted.shape[0]): \n",
    "    if neur_train_y_predicted[i]>0.5:\n",
    "        predict_train.append(1)\n",
    "    else:\n",
    "        predict_train.append(0)\n",
    "predict_train = np.array(predict_train)\n",
    "\n",
    "#print(predict_train)\n",
    "\n",
    "from sklearn.metrics import accuracy_score, f1_score,precision_score,recall_score,confusion_matrix\n",
    "\n",
    "cm1 = confusion_matrix(train_y_temp,predict_train)\n",
    "\n",
    "sensitivity = cm1[1,1]/(cm1[1,0]+cm1[1,1])   #TPR\n",
    "specificity = cm1[0,0]/(cm1[0,0]+cm1[0,1])   #FPR\n",
    "\n",
    "#print('Precision:',precision_score(y_test_1, predict_test))\n",
    "#print('Recall:', recall_score(y_test_1, predict_test))\n",
    "#print('f1-score: %f' % f1_score(y_test_1, predict_test))\n",
    "print('Accuracy: %f' % accuracy_score(train_y_temp, predict_train))\n",
    "print('Sensitivity : %0.2f' % sensitivity )\n",
    "print('Specificity :%0.2f' % specificity)\n",
    "\n",
    "pd.crosstab(train_y_temp,predict_train,rownames=['label'],colnames=['predict'])\n"
   ]
  },
  {
   "cell_type": "code",
   "execution_count": 49,
   "id": "2e1b74ab",
   "metadata": {},
   "outputs": [
    {
     "data": {
      "text/plain": [
       "<Figure size 432x288 with 0 Axes>"
      ]
     },
     "metadata": {},
     "output_type": "display_data"
    },
    {
     "data": {
      "image/png": "[encoded data removed]",
      "text/plain": [
       "<Figure size 720x720 with 1 Axes>"
      ]
     },
     "metadata": {
      "needs_background": "light"
     },
     "output_type": "display_data"
    }
   ],
   "source": [
    "from sklearn.metrics import roc_curve, auc\n",
    "import matplotlib.pyplot as plt   # plotting\n",
    "# Compute ROC curve and ROC area for each class\n",
    "fpr,tpr,threshold = roc_curve(train_y_temp, neur_train_y_predicted) ###計算真正率和假正率\n",
    "roc_auc = auc(fpr,tpr) ###計算auc的值\n",
    "plt.figure()\n",
    "lw = 2\n",
    "plt.figure(figsize=(10,10))\n",
    "plt.plot(fpr, tpr, color='darkorange',\n",
    "lw=lw, label='ROC curve (area = %0.2f)' % roc_auc) ###假正率為橫座標，真正率為縱座標做曲線\n",
    "plt.plot([0, 1], [0, 1], color='navy', lw=lw, linestyle='--')\n",
    "plt.xlim([0.0, 1.0])\n",
    "plt.ylim([0.0, 1.0])\n",
    "plt.xlabel('False Positive Rate')\n",
    "plt.ylabel('True Positive Rate')\n",
    "plt.title('eicu_total_new')\n",
    "plt.legend(loc=\"lower right\")\n",
    "\n",
    "plt.show()\n"
   ]
  }
 ],
 "metadata": {
  "kernelspec": {
   "display_name": "Python 3 (ipykernel)",
   "language": "python",
   "name": "python3"
  },
  "language_info": {
   "codemirror_mode": {
    "name": "ipython",
    "version": 3
   },
   "file_extension": ".py",
   "mimetype": "text/x-python",
   "name": "python",
   "nbconvert_exporter": "python",
   "pygments_lexer": "ipython3",
   "version": "3.7.13"
  }
 },
 "nbformat": 4,
 "nbformat_minor": 5
}
