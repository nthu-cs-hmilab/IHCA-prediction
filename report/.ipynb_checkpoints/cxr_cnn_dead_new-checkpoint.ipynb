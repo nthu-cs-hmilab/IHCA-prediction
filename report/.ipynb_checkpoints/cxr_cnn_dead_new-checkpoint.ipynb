{
 "cells": [
  {
   "cell_type": "code",
   "execution_count": 1,
   "metadata": {
    "scrolled": true
   },
   "outputs": [
    {
     "name": "stdout",
     "output_type": "stream",
     "text": [
      "(10605, 256, 256, 3)\n",
      "(10605,)\n",
      "(1612, 256, 256, 3)\n",
      "(1612,)\n"
     ]
    }
   ],
   "source": [
    "# 1. Set the `PYTHONHASHSEED` environment variable at a fixed value\n",
    "import os\n",
    "os.environ['PYTHONHASHSEED']=str(0)\n",
    "os.environ['CUDA_VISIBLE_DEVICES'] = ''\n",
    "\n",
    "# 2. Set the `python` built-in pseudo-random generator at a fixed value\n",
    "import random\n",
    "random.seed(2)\n",
    "\n",
    "# 3. Set the `numpy` pseudo-random generator at a fixed value\n",
    "import numpy as np\n",
    "np.random.seed(24)\n",
    "\n",
    "# 4. Set the `tensorflow` pseudo-random generator at a fixed value\n",
    "import tensorflow as tf\n",
    "tf.random.set_seed(26)\n",
    "\n",
    "# 5. Configure a new global `tensorflow` session\n",
    "#from keras import backend as K\n",
    "\n",
    "from tensorflow.python.keras import backend as K\n",
    "\n",
    "session_conf = tf.compat.v1.ConfigProto(intra_op_parallelism_threads=1, inter_op_parallelism_threads=1)\n",
    "sess = tf.compat.v1.Session(graph=tf.compat.v1.get_default_graph(), config=session_conf)\n",
    "K.set_session(sess)\n",
    "\n",
    "import os\n",
    "import cv2\n",
    "import pandas as pd # data processing, CSV file I/O (e.g. pd.read_csv)\n",
    "import numpy as np\n",
    "import os\n",
    "from keras.models import Sequential, load_model\n",
    "from tensorflow.keras.models import load_model\n",
    "from keras.layers import Dense, Dropout, Flatten, Conv2D, MaxPool2D\n",
    "from keras.utils import np_utils\n",
    "from keras.datasets import mnist\n",
    "from keras.models import Sequential\n",
    "from keras.applications.densenet import DenseNet121 as DenseNet121\n",
    "from sklearn import preprocessing  #用來標準化刻度\n",
    "\n",
    "#import matplotlib.pyplot as plt\n",
    "\n",
    "train_x = [] \n",
    "test_x = [] \n",
    "train_y = [] \n",
    "test_y = [] \n",
    "\n",
    "for filename in os.listdir(r'C:\\Users\\Tony\\my_final_report\\cxr_control_train_v2_single_selected'):\n",
    "        #print(filename) #just for test\n",
    "        #img is used to store the image data \n",
    "        img = cv2.imread('cxr_control_train_v2_single_selected' + \"/\" + filename)\n",
    "        train_x.append(img)\n",
    "        train_y.append(0)\n",
    "        \n",
    "for filename in os.listdir(r'C:\\Users\\Tony\\my_final_report\\cxr_dead_train_multi_selected1'):\n",
    "        #print(filename) #just for test\n",
    "        #img is used to store the image data \n",
    "        img = cv2.imread('cxr_dead_train_multi_selected' + \"/\" + filename)\n",
    "        train_x.append(img)\n",
    "        train_y.append(1)\n",
    "\n",
    "for filename in os.listdir(r'C:\\Users\\Tony\\my_final_report\\cxr_control_test_v2_single_selected_new'):\n",
    "        #print(filename[0:-4]) #just for test\n",
    "        #img is used to store the image data \n",
    "        img = cv2.imread('cxr_control_test_v2_single_selected_new' + \"/\" + filename)\n",
    "        test_x.append(img)\n",
    "        test_y.append(0)\n",
    "\n",
    "for filename in os.listdir(r'C:\\Users\\Tony\\my_final_report\\cxr_dead_test_single_selected'):\n",
    "        #print(filename[0:-4]) #just for test\n",
    "        #img is used to store the image data \n",
    "        img = cv2.imread('cxr_dead_test_single_selected' + \"/\" + filename)\n",
    "        test_x.append(img)\n",
    "        test_y.append(1)\n",
    "\n",
    "train_x=np.array(train_x)\n",
    "test_x=np.array(test_x)\n",
    "\n",
    "train_y=np.array(train_y)\n",
    "test_y=np.array(test_y)\n",
    "\n",
    "#train_x = train_x.reshape(7305, 256, 256, 3)\n",
    "#test_x = test_x.reshape(1502, 256, 256, 3)\n",
    "\n",
    "train_x=train_x/256\n",
    "test_x=test_x/256\n",
    "\n",
    "print(train_x.shape)\n",
    "print(train_y.shape)\n",
    "print(test_x.shape)\n",
    "print(test_y.shape)\n",
    "\n",
    "#train_x_temp=np.concatenate((train_x[:5005], train_x[-6000:]))\n",
    "#train_y_temp=np.concatenate((train_y[:5005], train_y[-6000:]))\n",
    "\n",
    "#print(train_x_temp.shape)\n",
    "#print(train_y_temp.shape)"
   ]
  },
  {
   "cell_type": "code",
   "execution_count": 2,
   "metadata": {},
   "outputs": [
    {
     "name": "stdout",
     "output_type": "stream",
     "text": [
      "Model: \"sequential\"\n",
      "_________________________________________________________________\n",
      "Layer (type)                 Output Shape              Param #   \n",
      "=================================================================\n",
      "conv2d (Conv2D)              (None, 125, 125, 128)     24704     \n",
      "_________________________________________________________________\n",
      "max_pooling2d (MaxPooling2D) (None, 62, 62, 128)       0         \n",
      "_________________________________________________________________\n",
      "batch_normalization (BatchNo (None, 62, 62, 128)       512       \n",
      "_________________________________________________________________\n",
      "conv2d_1 (Conv2D)            (None, 30, 30, 128)       262272    \n",
      "_________________________________________________________________\n",
      "batch_normalization_1 (Batch (None, 30, 30, 128)       512       \n",
      "_________________________________________________________________\n",
      "conv2d_2 (Conv2D)            (None, 15, 15, 128)       65664     \n",
      "_________________________________________________________________\n",
      "batch_normalization_2 (Batch (None, 15, 15, 128)       512       \n",
      "_________________________________________________________________\n",
      "flatten (Flatten)            (None, 28800)             0         \n",
      "_________________________________________________________________\n",
      "dense (Dense)                (None, 256)               7373056   \n",
      "_________________________________________________________________\n",
      "dense_1 (Dense)              (None, 1)                 257       \n",
      "=================================================================\n",
      "Total params: 7,727,489\n",
      "Trainable params: 7,726,721\n",
      "Non-trainable params: 768\n",
      "_________________________________________________________________\n"
     ]
    }
   ],
   "source": [
    "from tensorflow.keras import layers, models, preprocessing\n",
    "from keras.layers import Dense, LSTM, BatchNormalization ,MaxPool2D\n",
    "\n",
    "class_weight={0:1,1:2}\n",
    "\n",
    "model = Sequential()\n",
    "model.add(Conv2D(128, (8, 8), strides=2, input_shape=(256, 256, 3), activation='relu'))\n",
    "model.add(MaxPool2D(pool_size=(2, 2)))\n",
    "model.add(BatchNormalization())\n",
    "#model.add(Dropout(0.3))\n",
    "\n",
    "model.add(Conv2D(128, (4, 4), strides=2, activation='relu'))\n",
    "model.add(BatchNormalization())\n",
    "#model.add(Dropout(0.3))\n",
    "\n",
    "model.add(Conv2D(128, (2, 2), strides=2, activation='relu'))\n",
    "model.add(BatchNormalization())\n",
    "#model.add(Dropout(0.3))\n",
    "\n",
    "model.add(Flatten())\n",
    "model.add(Dense(units=256, activation=\"relu\"))\n",
    "model.add(Dense(units=1, activation=\"sigmoid\"))\n",
    "\n",
    "model.summary()\n",
    "\n",
    "model.compile(loss='binary_crossentropy',optimizer='adam', metrics=['accuracy']) #binary_crossentropy categorical_crossentropy"
   ]
  },
  {
   "cell_type": "code",
   "execution_count": 3,
   "metadata": {},
   "outputs": [
    {
     "name": "stdout",
     "output_type": "stream",
     "text": [
      "WARNING:tensorflow:From C:\\Users\\Tony\\anaconda3\\envs\\gpu\\lib\\site-packages\\tensorflow\\python\\ops\\array_ops.py:5049: calling gather (from tensorflow.python.ops.array_ops) with validate_indices is deprecated and will be removed in a future version.\n",
      "Instructions for updating:\n",
      "The `validate_indices` argument has no effect. Indices are always validated on CPU and never validated on GPU.\n",
      "Epoch 1/10\n",
      "266/266 - 42s - loss: 1.2465 - accuracy: 0.4771 - val_loss: 0.5741 - val_accuracy: 0.6167\n",
      "Epoch 2/10\n",
      "266/266 - 12s - loss: 0.9135 - accuracy: 0.6110 - val_loss: 0.8509 - val_accuracy: 0.8586\n",
      "Epoch 3/10\n",
      "266/266 - 11s - loss: 0.9603 - accuracy: 0.6284 - val_loss: 1.1089 - val_accuracy: 0.2117\n",
      "Epoch 4/10\n",
      "266/266 - 10s - loss: 0.8864 - accuracy: 0.6366 - val_loss: 0.6570 - val_accuracy: 0.6761\n",
      "Epoch 5/10\n",
      "266/266 - 10s - loss: 0.8276 - accuracy: 0.6482 - val_loss: 0.6166 - val_accuracy: 0.7463\n",
      "Epoch 6/10\n",
      "266/266 - 11s - loss: 0.8079 - accuracy: 0.6579 - val_loss: 0.7765 - val_accuracy: 0.6322\n",
      "Epoch 7/10\n",
      "266/266 - 11s - loss: 0.7990 - accuracy: 0.6647 - val_loss: 0.7554 - val_accuracy: 0.5361\n",
      "Epoch 8/10\n",
      "266/266 - 11s - loss: 0.7816 - accuracy: 0.6760 - val_loss: 0.7845 - val_accuracy: 0.6124\n",
      "Epoch 9/10\n",
      "266/266 - 11s - loss: 0.7699 - accuracy: 0.6885 - val_loss: 0.6600 - val_accuracy: 0.6228\n",
      "Epoch 10/10\n",
      "266/266 - 10s - loss: 0.7482 - accuracy: 0.6994 - val_loss: 0.6170 - val_accuracy: 0.7100\n"
     ]
    }
   ],
   "source": [
    "#train_history = model.fit(x=train_x_temp, y=train_y_temp, validation_split=0.2, epochs=10, batch_size=32, verbose=2)#,class_weight=class_weight\n",
    "train_history = model.fit(x=train_x, y=train_y, validation_split=0.2, epochs=10, batch_size=32, verbose=2,class_weight=class_weight)#,class_weight=class_weight\n"
   ]
  },
  {
   "cell_type": "code",
   "execution_count": 4,
   "metadata": {},
   "outputs": [
    {
     "name": "stdout",
     "output_type": "stream",
     "text": [
      "Accuracy: 0.700372\n",
      "Sensitivity : 0.80\n",
      "Specificity :0.68\n"
     ]
    },
    {
     "data": {
      "text/html": [
       "<div>\n",
       "<style scoped>\n",
       "    .dataframe tbody tr th:only-of-type {\n",
       "        vertical-align: middle;\n",
       "    }\n",
       "\n",
       "    .dataframe tbody tr th {\n",
       "        vertical-align: top;\n",
       "    }\n",
       "\n",
       "    .dataframe thead th {\n",
       "        text-align: right;\n",
       "    }\n",
       "</style>\n",
       "<table border=\"1\" class=\"dataframe\">\n",
       "  <thead>\n",
       "    <tr style=\"text-align: right;\">\n",
       "      <th>predict</th>\n",
       "      <th>0</th>\n",
       "      <th>1</th>\n",
       "    </tr>\n",
       "    <tr>\n",
       "      <th>label</th>\n",
       "      <th></th>\n",
       "      <th></th>\n",
       "    </tr>\n",
       "  </thead>\n",
       "  <tbody>\n",
       "    <tr>\n",
       "      <th>0</th>\n",
       "      <td>940</td>\n",
       "      <td>435</td>\n",
       "    </tr>\n",
       "    <tr>\n",
       "      <th>1</th>\n",
       "      <td>48</td>\n",
       "      <td>189</td>\n",
       "    </tr>\n",
       "  </tbody>\n",
       "</table>\n",
       "</div>"
      ],
      "text/plain": [
       "predict    0    1\n",
       "label            \n",
       "0        940  435\n",
       "1         48  189"
      ]
     },
     "execution_count": 4,
     "metadata": {},
     "output_type": "execute_result"
    }
   ],
   "source": [
    "neur_test_y_predicted = model.predict(test_x)\n",
    "predict_test=[]\n",
    "for i in range(neur_test_y_predicted.shape[0]): \n",
    "    if neur_test_y_predicted[i]>0.5:\n",
    "        predict_test.append(1)\n",
    "    else:\n",
    "        predict_test.append(0)\n",
    "predict_test = np.array(predict_test)\n",
    "\n",
    "#print(predict_test)\n",
    "\n",
    "from sklearn.metrics import accuracy_score, f1_score,precision_score,recall_score,confusion_matrix\n",
    "\n",
    "cm1 = confusion_matrix(test_y,predict_test)\n",
    "\n",
    "sensitivity = cm1[1,1]/(cm1[1,0]+cm1[1,1])   #TPR\n",
    "specificity = cm1[0,0]/(cm1[0,0]+cm1[0,1])   #FPR\n",
    "\n",
    "#print('Precision:',precision_score(y_test_1, predict_test))\n",
    "#print('Recall:', recall_score(y_test_1, predict_test))\n",
    "#print('f1-score: %f' % f1_score(y_test_1, predict_test))\n",
    "print('Accuracy: %f' % accuracy_score(test_y, predict_test))\n",
    "print('Sensitivity : %0.2f' % sensitivity )\n",
    "print('Specificity :%0.2f' % specificity)\n",
    "\n",
    "pd.crosstab(test_y,predict_test,rownames=['label'],colnames=['predict'])\n"
   ]
  },
  {
   "cell_type": "code",
   "execution_count": 7,
   "metadata": {},
   "outputs": [],
   "source": [
    "pd_neur_test_y_predicted=pd.DataFrame(neur_test_y_predicted)\n",
    "pd_neur_test_y_predicted.to_csv('cxr_neuro_dead_new77777777777777.csv', index=False)"
   ]
  },
  {
   "cell_type": "code",
   "execution_count": 8,
   "metadata": {},
   "outputs": [
    {
     "data": {
      "text/plain": [
       "<Figure size 432x288 with 0 Axes>"
      ]
     },
     "metadata": {},
     "output_type": "display_data"
    },
    {
     "data": {
      "image/png": "[encoded data removed]",
      "text/plain": [
       "<Figure size 720x720 with 1 Axes>"
      ]
     },
     "metadata": {
      "needs_background": "light"
     },
     "output_type": "display_data"
    }
   ],
   "source": [
    "from sklearn.metrics import roc_curve, auc\n",
    "import matplotlib.pyplot as plt   # plotting\n",
    "# Compute ROC curve and ROC area for each class\n",
    "fpr,tpr,threshold = roc_curve(test_y, neur_test_y_predicted) ###計算真正率和假正率\n",
    "roc_auc = auc(fpr,tpr) ###計算auc的值\n",
    "plt.figure()\n",
    "lw = 2\n",
    "plt.figure(figsize=(10,10))\n",
    "plt.plot(fpr, tpr, color='darkorange',\n",
    "lw=lw, label='ROC curve (area = %0.2f)' % roc_auc) ###假正率為橫座標，真正率為縱座標做曲線\n",
    "plt.plot([0, 1], [0, 1], color='navy', lw=lw, linestyle='--')\n",
    "plt.xlim([0.0, 1.0])\n",
    "plt.ylim([0.0, 1.0])\n",
    "plt.xlabel('False Positive Rate')\n",
    "plt.ylabel('True Positive Rate')\n",
    "plt.title('eicu_total_new')\n",
    "plt.legend(loc=\"lower right\")\n",
    "\n",
    "plt.show()\n"
   ]
  }
 ],
 "metadata": {
  "kernelspec": {
   "display_name": "Python 3",
   "language": "python",
   "name": "python3"
  },
  "language_info": {
   "codemirror_mode": {
    "name": "ipython",
    "version": 3
   },
   "file_extension": ".py",
   "mimetype": "text/x-python",
   "name": "python",
   "nbconvert_exporter": "python",
   "pygments_lexer": "ipython3",
   "version": "3.6.12"
  }
 },
 "nbformat": 4,
 "nbformat_minor": 5
}
