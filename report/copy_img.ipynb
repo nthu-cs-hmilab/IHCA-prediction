{
 "cells": [
  {
   "cell_type": "code",
   "execution_count": 8,
   "metadata": {},
   "outputs": [
    {
     "ename": "FileNotFoundError",
     "evalue": "[Errno 2] No such file or directory: 'C:\\\\Users\\\\Tony\\\\my_final_report\\\\Little_dataset\\\\cxr_temp\\\\b0e4f7e3-b79b8b85-6dfa4a86-28aac959-f3a6a990.jpg'",
     "output_type": "error",
     "traceback": [
      "\u001b[1;31m---------------------------------------------------------------------------\u001b[0m",
      "\u001b[1;31mFileNotFoundError\u001b[0m                         Traceback (most recent call last)",
      "\u001b[1;32m<ipython-input-8-8076fba17e5e>\u001b[0m in \u001b[0;36m<module>\u001b[1;34m\u001b[0m\n\u001b[0;32m     16\u001b[0m         \u001b[0mfull_file\u001b[0m \u001b[1;33m=\u001b[0m \u001b[0mos\u001b[0m\u001b[1;33m.\u001b[0m\u001b[0mpath\u001b[0m\u001b[1;33m.\u001b[0m\u001b[0mjoin\u001b[0m\u001b[1;33m(\u001b[0m\u001b[0mpath\u001b[0m\u001b[1;33m,\u001b[0m \u001b[0mitem\u001b[0m\u001b[1;33m)\u001b[0m\u001b[1;33m\u001b[0m\u001b[1;33m\u001b[0m\u001b[0m\n\u001b[0;32m     17\u001b[0m         \u001b[0mnew_full_file\u001b[0m \u001b[1;33m=\u001b[0m \u001b[0mos\u001b[0m\u001b[1;33m.\u001b[0m\u001b[0mpath\u001b[0m\u001b[1;33m.\u001b[0m\u001b[0mjoin\u001b[0m\u001b[1;33m(\u001b[0m\u001b[0mnew_path\u001b[0m\u001b[1;33m,\u001b[0m \u001b[0mitem\u001b[0m\u001b[1;33m)\u001b[0m\u001b[1;33m\u001b[0m\u001b[1;33m\u001b[0m\u001b[0m\n\u001b[1;32m---> 18\u001b[1;33m         \u001b[0mshutil\u001b[0m\u001b[1;33m.\u001b[0m\u001b[0mcopy\u001b[0m\u001b[1;33m(\u001b[0m\u001b[0mfull_file\u001b[0m\u001b[1;33m,\u001b[0m \u001b[0mnew_full_file\u001b[0m\u001b[1;33m)\u001b[0m\u001b[1;33m\u001b[0m\u001b[1;33m\u001b[0m\u001b[0m\n\u001b[0m\u001b[0;32m     19\u001b[0m \u001b[1;31m#    if file==\"a917c883-720a5bbf-02c84fc6-98ad00ac-c562ff80.jpg\":\u001b[0m\u001b[1;33m\u001b[0m\u001b[1;33m\u001b[0m\u001b[1;33m\u001b[0m\u001b[0m\n\u001b[0;32m     20\u001b[0m \u001b[1;33m\u001b[0m\u001b[0m\n",
      "\u001b[1;32m~\\anaconda3\\envs\\tensorflow\\lib\\shutil.py\u001b[0m in \u001b[0;36mcopy\u001b[1;34m(src, dst, follow_symlinks)\u001b[0m\n\u001b[0;32m    243\u001b[0m     \u001b[1;32mif\u001b[0m \u001b[0mos\u001b[0m\u001b[1;33m.\u001b[0m\u001b[0mpath\u001b[0m\u001b[1;33m.\u001b[0m\u001b[0misdir\u001b[0m\u001b[1;33m(\u001b[0m\u001b[0mdst\u001b[0m\u001b[1;33m)\u001b[0m\u001b[1;33m:\u001b[0m\u001b[1;33m\u001b[0m\u001b[1;33m\u001b[0m\u001b[0m\n\u001b[0;32m    244\u001b[0m         \u001b[0mdst\u001b[0m \u001b[1;33m=\u001b[0m \u001b[0mos\u001b[0m\u001b[1;33m.\u001b[0m\u001b[0mpath\u001b[0m\u001b[1;33m.\u001b[0m\u001b[0mjoin\u001b[0m\u001b[1;33m(\u001b[0m\u001b[0mdst\u001b[0m\u001b[1;33m,\u001b[0m \u001b[0mos\u001b[0m\u001b[1;33m.\u001b[0m\u001b[0mpath\u001b[0m\u001b[1;33m.\u001b[0m\u001b[0mbasename\u001b[0m\u001b[1;33m(\u001b[0m\u001b[0msrc\u001b[0m\u001b[1;33m)\u001b[0m\u001b[1;33m)\u001b[0m\u001b[1;33m\u001b[0m\u001b[1;33m\u001b[0m\u001b[0m\n\u001b[1;32m--> 245\u001b[1;33m     \u001b[0mcopyfile\u001b[0m\u001b[1;33m(\u001b[0m\u001b[0msrc\u001b[0m\u001b[1;33m,\u001b[0m \u001b[0mdst\u001b[0m\u001b[1;33m,\u001b[0m \u001b[0mfollow_symlinks\u001b[0m\u001b[1;33m=\u001b[0m\u001b[0mfollow_symlinks\u001b[0m\u001b[1;33m)\u001b[0m\u001b[1;33m\u001b[0m\u001b[1;33m\u001b[0m\u001b[0m\n\u001b[0m\u001b[0;32m    246\u001b[0m     \u001b[0mcopymode\u001b[0m\u001b[1;33m(\u001b[0m\u001b[0msrc\u001b[0m\u001b[1;33m,\u001b[0m \u001b[0mdst\u001b[0m\u001b[1;33m,\u001b[0m \u001b[0mfollow_symlinks\u001b[0m\u001b[1;33m=\u001b[0m\u001b[0mfollow_symlinks\u001b[0m\u001b[1;33m)\u001b[0m\u001b[1;33m\u001b[0m\u001b[1;33m\u001b[0m\u001b[0m\n\u001b[0;32m    247\u001b[0m     \u001b[1;32mreturn\u001b[0m \u001b[0mdst\u001b[0m\u001b[1;33m\u001b[0m\u001b[1;33m\u001b[0m\u001b[0m\n",
      "\u001b[1;32m~\\anaconda3\\envs\\tensorflow\\lib\\shutil.py\u001b[0m in \u001b[0;36mcopyfile\u001b[1;34m(src, dst, follow_symlinks)\u001b[0m\n\u001b[0;32m    119\u001b[0m     \u001b[1;32melse\u001b[0m\u001b[1;33m:\u001b[0m\u001b[1;33m\u001b[0m\u001b[1;33m\u001b[0m\u001b[0m\n\u001b[0;32m    120\u001b[0m         \u001b[1;32mwith\u001b[0m \u001b[0mopen\u001b[0m\u001b[1;33m(\u001b[0m\u001b[0msrc\u001b[0m\u001b[1;33m,\u001b[0m \u001b[1;34m'rb'\u001b[0m\u001b[1;33m)\u001b[0m \u001b[1;32mas\u001b[0m \u001b[0mfsrc\u001b[0m\u001b[1;33m:\u001b[0m\u001b[1;33m\u001b[0m\u001b[1;33m\u001b[0m\u001b[0m\n\u001b[1;32m--> 121\u001b[1;33m             \u001b[1;32mwith\u001b[0m \u001b[0mopen\u001b[0m\u001b[1;33m(\u001b[0m\u001b[0mdst\u001b[0m\u001b[1;33m,\u001b[0m \u001b[1;34m'wb'\u001b[0m\u001b[1;33m)\u001b[0m \u001b[1;32mas\u001b[0m \u001b[0mfdst\u001b[0m\u001b[1;33m:\u001b[0m\u001b[1;33m\u001b[0m\u001b[1;33m\u001b[0m\u001b[0m\n\u001b[0m\u001b[0;32m    122\u001b[0m                 \u001b[0mcopyfileobj\u001b[0m\u001b[1;33m(\u001b[0m\u001b[0mfsrc\u001b[0m\u001b[1;33m,\u001b[0m \u001b[0mfdst\u001b[0m\u001b[1;33m)\u001b[0m\u001b[1;33m\u001b[0m\u001b[1;33m\u001b[0m\u001b[0m\n\u001b[0;32m    123\u001b[0m     \u001b[1;32mreturn\u001b[0m \u001b[0mdst\u001b[0m\u001b[1;33m\u001b[0m\u001b[1;33m\u001b[0m\u001b[0m\n",
      "\u001b[1;31mFileNotFoundError\u001b[0m: [Errno 2] No such file or directory: 'C:\\\\Users\\\\Tony\\\\my_final_report\\\\Little_dataset\\\\cxr_temp\\\\b0e4f7e3-b79b8b85-6dfa4a86-28aac959-f3a6a990.jpg'"
     ]
    }
   ],
   "source": [
    "import shutil\n",
    "import pandas as pd # data processing, CSV file I/O (e.g. pd.read_csv)\n",
    "import os\n",
    "cxr=pd.read_csv(\"cxr_temp.csv\")\n",
    "\n",
    "#目录自己改一下即可\n",
    "path = \"C:\\\\Users\\\\Tony\\\\my_final_report\\\\Little_dataset\"  \n",
    "new_path = \"C:\\\\Users\\\\Tony\\\\my_final_report\\\\Little_dataset\\\\cxr_temp\"\n",
    "\n",
    "#for file in os.listdir(path):\n",
    "\n",
    "for index, row in cxr.iterrows():\n",
    "    item=row[\"dicom_id\"]+'.jpg'\n",
    "    check=path+\"\\\\\"+item\n",
    "    if  os.path.exists(check):\n",
    "        full_file = os.path.join(path, item)\n",
    "        new_full_file = os.path.join(new_path, item)\n",
    "        shutil.copy(full_file, new_full_file)\n",
    "#    if file==\"a917c883-720a5bbf-02c84fc6-98ad00ac-c562ff80.jpg\":\n",
    "   \n",
    "#for index, row in cxr.iterrows():\n",
    "#    item=row[\"dicom_id\"]+'.jpg'\n",
    "#    print(item)\n",
    "\n",
    "print(\"complete!\")\n",
    "\n",
    "print(cxr.shape)"
   ]
  },
  {
   "cell_type": "code",
   "execution_count": 5,
   "metadata": {},
   "outputs": [
    {
     "data": {
      "text/html": [
       "<div>\n",
       "<style scoped>\n",
       "    .dataframe tbody tr th:only-of-type {\n",
       "        vertical-align: middle;\n",
       "    }\n",
       "\n",
       "    .dataframe tbody tr th {\n",
       "        vertical-align: top;\n",
       "    }\n",
       "\n",
       "    .dataframe thead th {\n",
       "        text-align: right;\n",
       "    }\n",
       "</style>\n",
       "<table border=\"1\" class=\"dataframe\">\n",
       "  <thead>\n",
       "    <tr style=\"text-align: right;\">\n",
       "      <th></th>\n",
       "      <th>subject_id</th>\n",
       "      <th>dicom_id</th>\n",
       "    </tr>\n",
       "  </thead>\n",
       "  <tbody>\n",
       "    <tr>\n",
       "      <th>0</th>\n",
       "      <td>17936886</td>\n",
       "      <td>28347f27-939bd52d-7b0a5b06-b7a3cda2-dd8d948a</td>\n",
       "    </tr>\n",
       "    <tr>\n",
       "      <th>1</th>\n",
       "      <td>17936886</td>\n",
       "      <td>b0e4f7e3-b79b8b85-6dfa4a86-28aac959-f3a6a990</td>\n",
       "    </tr>\n",
       "    <tr>\n",
       "      <th>2</th>\n",
       "      <td>17936886</td>\n",
       "      <td>f9c610eb-5dc314a5-c9e02a49-6be6071a-c16140e6</td>\n",
       "    </tr>\n",
       "    <tr>\n",
       "      <th>3</th>\n",
       "      <td>17936886</td>\n",
       "      <td>707f1985-dce142c1-a1b25da5-37824375-f986efbb</td>\n",
       "    </tr>\n",
       "  </tbody>\n",
       "</table>\n",
       "</div>"
      ],
      "text/plain": [
       "   subject_id                                      dicom_id\n",
       "0    17936886  28347f27-939bd52d-7b0a5b06-b7a3cda2-dd8d948a\n",
       "1    17936886  b0e4f7e3-b79b8b85-6dfa4a86-28aac959-f3a6a990\n",
       "2    17936886  f9c610eb-5dc314a5-c9e02a49-6be6071a-c16140e6\n",
       "3    17936886  707f1985-dce142c1-a1b25da5-37824375-f986efbb"
      ]
     },
     "execution_count": 5,
     "metadata": {},
     "output_type": "execute_result"
    }
   ],
   "source": [
    "cxr"
   ]
  },
  {
   "cell_type": "code",
   "execution_count": 6,
   "metadata": {},
   "outputs": [
    {
     "data": {
      "text/plain": [
       "'28347f27-939bd52d-7b0a5b06-b7a3cda2-dd8d948a.jpg'"
      ]
     },
     "execution_count": 6,
     "metadata": {},
     "output_type": "execute_result"
    }
   ],
   "source": [
    "item"
   ]
  },
  {
   "cell_type": "code",
   "execution_count": 3,
   "metadata": {},
   "outputs": [
    {
     "name": "stdout",
     "output_type": "stream",
     "text": [
      "complete!\n",
      "(8807, 11)\n"
     ]
    }
   ],
   "source": [
    "import shutil\n",
    "import pandas as pd # data processing, CSV file I/O (e.g. pd.read_csv)\n",
    "import os\n",
    "cxr=pd.read_csv(\"cxr_combine_mutli_ca.csv\")\n",
    "\n",
    "#目录自己改一下即可\n",
    "path = \"C:\\\\Users\\\\Tony\\\\my_final_report\\\\Little_dataset\"  \n",
    "new_path = \"C:\\\\Users\\\\Tony\\\\my_final_report\\\\my_single_mutli_ca\"\n",
    "\n",
    "#for file in os.listdir(path):\n",
    "\n",
    "for index, row in cxr.iterrows():\n",
    "    item=row[\"dicom_id\"]+'.jpg'\n",
    "    check=path+\"\\\\\"+item\n",
    "    if  os.path.exists(check):\n",
    "        full_file = os.path.join(path, item)\n",
    "        new_full_file = os.path.join(new_path, item)\n",
    "        shutil.copy(full_file, new_full_file)\n",
    "#    if file==\"a917c883-720a5bbf-02c84fc6-98ad00ac-c562ff80.jpg\":\n",
    "   \n",
    "#for index, row in cxr.iterrows():\n",
    "#    item=row[\"dicom_id\"]+'.jpg'\n",
    "#    print(item)\n",
    "\n",
    "print(\"complete!\")\n",
    "\n",
    "print(cxr.shape)"
   ]
  },
  {
   "cell_type": "code",
   "execution_count": 77,
   "metadata": {},
   "outputs": [
    {
     "name": "stdout",
     "output_type": "stream",
     "text": [
      "7389\n",
      "complete!\n",
      "7389\n"
     ]
    }
   ],
   "source": [
    "import shutil\n",
    "import pandas as pd # data processing, CSV file I/O (e.g. pd.read_csv)\n",
    "import os\n",
    "cxr_test=pd.read_csv(\"cxr_patient.csv\")\n",
    "path = \"C:\\\\Users\\\\Tony\\\\my_final_report\\\\Little_dataset\"  \n",
    "new_path = \"C:\\\\Users\\\\Tony\\\\my_final_report\\\\my_single\"\n",
    "count =0\n",
    "count_aa=0\n",
    "for index, row in cxr.iterrows():\n",
    "    if count==0:\n",
    "       item=row[\"dicom_id\"]+'.jpg'\n",
    "       check=path+\"\\\\\"+item   \n",
    "       temp=row[\"subject_id\"]\n",
    "       count=count+1\n",
    "       if  os.path.exists(check):\n",
    "                  full_file = os.path.join(path, item)\n",
    "                  new_full_file = os.path.join(new_path, item)\n",
    "                  shutil.copy(full_file, new_full_file)\n",
    "                  count_aa=count_aa+1\n",
    "       #print(temp)\n",
    "    else:\n",
    "       p_id=row[\"subject_id\"]\n",
    "       if temp!=p_id:\n",
    "           item=row[\"dicom_id\"]+'.jpg'\n",
    "           check=path+\"\\\\\"+item           \n",
    "           temp=p_id\n",
    "           count=count+1                      \n",
    "           #print(check)\n",
    "           if  os.path.exists(check):\n",
    "                  full_file = os.path.join(path, item)\n",
    "                  new_full_file = os.path.join(new_path, item)\n",
    "                  shutil.copy(full_file, new_full_file)\n",
    "                  count_aa=count_aa+1\n",
    "           \n",
    "print(count)\n",
    "print(\"complete!\")\n",
    "print(count_aa)\n",
    "#print(cxr_test)"
   ]
  }
 ],
 "metadata": {
  "kernelspec": {
   "display_name": "Python 3",
   "language": "python",
   "name": "python3"
  },
  "language_info": {
   "codemirror_mode": {
    "name": "ipython",
    "version": 3
   },
   "file_extension": ".py",
   "mimetype": "text/x-python",
   "name": "python",
   "nbconvert_exporter": "python",
   "pygments_lexer": "ipython3",
   "version": "3.6.12"
  }
 },
 "nbformat": 4,
 "nbformat_minor": 4
}
